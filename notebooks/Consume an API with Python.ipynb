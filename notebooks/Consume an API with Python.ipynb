{
 "cells": [
  {
   "cell_type": "markdown",
   "metadata": {},
   "source": [
    "### Consume an API with Python"
   ]
  },
  {
   "cell_type": "raw",
   "metadata": {},
   "source": [
    "Basics...\n",
    "1. The GET Request\n",
    "2. Response\n",
    "    2.1 Status Codes\n",
    "    2.2 Content\n",
    "    2.3 Headers\n",
    "3. Query String Parameters\n",
    "4. The Body\n",
    "\n",
    "Advanced...\n",
    "5. POST, PATCH, PUT, DELETE,...\n",
    "6. Authentication and SSL Certificate Verification\n",
    "7. Performance\n",
    "    7.1 Timeouts\n",
    "    7.2 The Session Object\n",
    "    7.3 Max Retries"
   ]
  },
  {
   "cell_type": "code",
   "execution_count": 2,
   "metadata": {},
   "outputs": [],
   "source": [
    "import requests"
   ]
  },
  {
   "cell_type": "markdown",
   "metadata": {},
   "source": [
    "### The GET Request"
   ]
  },
  {
   "cell_type": "code",
   "execution_count": 3,
   "metadata": {},
   "outputs": [
    {
     "data": {
      "text/plain": [
       "200"
      ]
     },
     "execution_count": 3,
     "metadata": {},
     "output_type": "execute_result"
    }
   ],
   "source": [
    "response = requests.get('https://pyprogrammer.com/api/v1')\n",
    "response.status_code"
   ]
  },
  {
   "cell_type": "code",
   "execution_count": 4,
   "metadata": {},
   "outputs": [
    {
     "data": {
      "text/plain": [
       "True"
      ]
     },
     "execution_count": 4,
     "metadata": {},
     "output_type": "execute_result"
    }
   ],
   "source": [
    "# response implements __bool__ methods \n",
    "# True for 200,.., 300,...\n",
    "# False for 500,.. 400,...\n",
    "bool(response)  # 200, 204, 304,..."
   ]
  },
  {
   "cell_type": "code",
   "execution_count": 5,
   "metadata": {},
   "outputs": [
    {
     "name": "stdout",
     "output_type": "stream",
     "text": [
      "Success!\n"
     ]
    }
   ],
   "source": [
    "# we can use raise for status to handle exceptions in our code\n",
    "try:\n",
    "    response = requests.get(\"https://pyprogrammer.com/api/v1\")\n",
    "    # If the response was successful, no Exception will be raised\n",
    "    response.raise_for_status()\n",
    "except HTTPError as http_err:\n",
    "    print(f'HTTP error occurred: {http_err}')  # Python 3.6\n",
    "except Exception as err:\n",
    "    print(f'Other error occurred: {err}')  # Python 3.6\n",
    "else:\n",
    "    print('Success!')"
   ]
  },
  {
   "cell_type": "code",
   "execution_count": 6,
   "metadata": {},
   "outputs": [
    {
     "data": {
      "text/plain": [
       "bytes"
      ]
     },
     "execution_count": 6,
     "metadata": {},
     "output_type": "execute_result"
    }
   ],
   "source": [
    "type(response.content)  # content access to raw bytes from json"
   ]
  },
  {
   "cell_type": "code",
   "execution_count": 19,
   "metadata": {},
   "outputs": [
    {
     "data": {
      "text/plain": [
       "str"
      ]
     },
     "execution_count": 19,
     "metadata": {},
     "output_type": "execute_result"
    }
   ],
   "source": [
    "type(response.text)  # this uses the default renderer"
   ]
  },
  {
   "cell_type": "code",
   "execution_count": 24,
   "metadata": {
    "scrolled": true
   },
   "outputs": [
    {
     "data": {
      "text/plain": [
       "{'posts': 'http://pyprogrammer.com/api/v1/posts/',\n",
       " 'categories': 'http://pyprogrammer.com/api/v1/categories/',\n",
       " 'tags': 'http://pyprogrammer.com/api/v1/tags/',\n",
       " 'products': 'http://pyprogrammer.com/api/v1/products/',\n",
       " 'producttypes': 'http://pyprogrammer.com/api/v1/producttypes/'}"
      ]
     },
     "execution_count": 24,
     "metadata": {},
     "output_type": "execute_result"
    }
   ],
   "source": [
    "response.json()  # json.loads(response.text)"
   ]
  },
  {
   "cell_type": "code",
   "execution_count": 25,
   "metadata": {},
   "outputs": [
    {
     "data": {
      "text/plain": [
       "KeysView({'Server': 'nginx/1.14.0 (Ubuntu)', 'Date': 'Sun, 02 Feb 2020 09:53:47 GMT', 'Content-Type': 'application/json', 'Content-Length': '269', 'Connection': 'keep-alive', 'Vary': 'Accept, Cookie', 'Allow': 'GET, HEAD, OPTIONS', 'X-Frame-Options': 'SAMEORIGIN'})"
      ]
     },
     "execution_count": 25,
     "metadata": {},
     "output_type": "execute_result"
    }
   ],
   "source": [
    "response.headers\n",
    "response.headers.keys()"
   ]
  },
  {
   "cell_type": "markdown",
   "metadata": {},
   "source": [
    "### Query String Parameters"
   ]
  },
  {
   "cell_type": "code",
   "execution_count": 26,
   "metadata": {},
   "outputs": [
    {
     "data": {
      "text/plain": [
       "403"
      ]
     },
     "execution_count": 26,
     "metadata": {},
     "output_type": "execute_result"
    }
   ],
   "source": [
    "import requests\n",
    "\n",
    "# Search GitHub's repositories for requests\n",
    "response = requests.get(\n",
    "    'https://pyprogrammer.com/api/v1/posts',\n",
    "    params={'q': 'requests+language:python'},\n",
    ")\n",
    "\n",
    "# Inspect some attributes of the `requests` repository\n",
    "json_response = response.json()\n",
    "response.status_code"
   ]
  },
  {
   "cell_type": "markdown",
   "metadata": {},
   "source": [
    "### POST, PATCH, PUT"
   ]
  },
  {
   "cell_type": "code",
   "execution_count": 61,
   "metadata": {},
   "outputs": [
    {
     "data": {
      "text/plain": [
       "<Response [200]>"
      ]
     },
     "execution_count": 61,
     "metadata": {},
     "output_type": "execute_result"
    }
   ],
   "source": [
    "requests.post('https://httpbin.org/post', data={'key':'value'})\n",
    "requests.put('https://httpbin.org/put', data={'key':'value'})\n",
    "requests.delete('https://httpbin.org/delete')\n",
    "requests.head('https://httpbin.org/get')\n",
    "requests.patch('https://httpbin.org/patch', data={'key':'value'})\n",
    "requests.options('https://httpbin.org/get')"
   ]
  },
  {
   "cell_type": "code",
   "execution_count": 62,
   "metadata": {},
   "outputs": [],
   "source": [
    "# POST, PUT and PATCH Differences"
   ]
  },
  {
   "cell_type": "markdown",
   "metadata": {},
   "source": [
    "### Inspecting yopur requests"
   ]
  },
  {
   "cell_type": "code",
   "execution_count": null,
   "metadata": {},
   "outputs": [
    {
     "data": {
      "text/plain": [
       "b'{\"key\": \"value\"}'"
      ]
     },
     "execution_count": 63,
     "metadata": {},
     "output_type": "execute_result"
    }
   ],
   "source": [
    "response = requests.post('https://httpbin.org/post', json={'key':'value'})\n",
    "response.request.headers['Content-Type']\n",
    "response.request.url\n",
    "response.request.body"
   ]
  },
  {
   "cell_type": "markdown",
   "metadata": {},
   "source": [
    "### Authentication"
   ]
  },
  {
   "cell_type": "code",
   "execution_count": null,
   "metadata": {},
   "outputs": [],
   "source": [
    "from getpass import getpass\n",
    "requests.get('https://api.github.com/user', auth=('username', getpass()))\n",
    "\n",
    "# is the same\n",
    "from requests.auth import HTTPBasicAuth\n",
    "from getpass import getpass\n",
    "requests.get(\n",
    "    'https://api.github.com/user',\n",
    "    auth=HTTPBasicAuth('username', getpass())\n",
    ")"
   ]
  },
  {
   "cell_type": "code",
   "execution_count": null,
   "metadata": {},
   "outputs": [],
   "source": [
    "import requests\n",
    "from requests.auth import AuthBase\n",
    "\n",
    "class TokenAuth(AuthBase):\n",
    "    \"\"\"Implements a custom authentication scheme.\"\"\"\n",
    "\n",
    "    def __init__(self, token):\n",
    "        self.token = token\n",
    "\n",
    "    def __call__(self, r):\n",
    "        \"\"\"Attach an API token to a custom auth header.\"\"\"\n",
    "        r.headers['X-TokenAuth'] = f'{self.token}'  # Python 3.6+\n",
    "        return r\n",
    "\n",
    "\n",
    "requests.get('https://httpbin.org/get', auth=TokenAuth('12345abcde-token'))"
   ]
  },
  {
   "cell_type": "markdown",
   "metadata": {},
   "source": [
    "### SSL Verification"
   ]
  },
  {
   "cell_type": "code",
   "execution_count": null,
   "metadata": {},
   "outputs": [],
   "source": [
    "requests.get('https://api.github.com', verify=False)"
   ]
  },
  {
   "cell_type": "markdown",
   "metadata": {},
   "source": [
    "### Performance"
   ]
  },
  {
   "cell_type": "code",
   "execution_count": null,
   "metadata": {},
   "outputs": [],
   "source": [
    "requests.get('https://api.github.com', timeout=3.05)"
   ]
  },
  {
   "cell_type": "code",
   "execution_count": null,
   "metadata": {},
   "outputs": [],
   "source": [
    "# If the request establishes a connection within 2 seconds and receives data within 5 seconds o"
   ]
  },
  {
   "cell_type": "code",
   "execution_count": null,
   "metadata": {},
   "outputs": [],
   "source": [
    "requests.get('https://api.github.com', timeout=(2, 5))"
   ]
  },
  {
   "cell_type": "code",
   "execution_count": null,
   "metadata": {},
   "outputs": [],
   "source": [
    "import requests\n",
    "from requests.exceptions import Timeout\n",
    "\n",
    "try:\n",
    "    response = requests.get('https://api.github.com', timeout=1)\n",
    "except Timeout:\n",
    "    print('The request timed out')\n",
    "else:\n",
    "    print('The request did not time out')"
   ]
  },
  {
   "cell_type": "code",
   "execution_count": null,
   "metadata": {},
   "outputs": [],
   "source": [
    "# sessions"
   ]
  },
  {
   "cell_type": "code",
   "execution_count": null,
   "metadata": {},
   "outputs": [],
   "source": [
    "import requests\n",
    "from getpass import getpass\n",
    "\n",
    "# By using a context manager, you can ensure the resources used by\n",
    "# the session will be released after use\n",
    "with requests.Session() as session:\n",
    "    session.auth = ('username', getpass())\n",
    "\n",
    "    # Instead of requests.get(), you'll use session.get()\n",
    "    response = session.get('https://api.github.com/user')\n",
    "\n",
    "# You can inspect the response just like you did before\n",
    "print(response.headers)\n",
    "print(response.json())"
   ]
  },
  {
   "cell_type": "code",
   "execution_count": null,
   "metadata": {},
   "outputs": [],
   "source": [
    "# max retries"
   ]
  },
  {
   "cell_type": "raw",
   "metadata": {},
   "source": [
    "The primary performance optimization of sessions comes in the form of persistent connections. When your app makes a connection to a server using a Session, it keeps that connection around in a connection pool. When your app wants to connect to the same server again, it will reuse a connection from the pool rather than establishing a new one."
   ]
  },
  {
   "cell_type": "code",
   "execution_count": null,
   "metadata": {},
   "outputs": [],
   "source": [
    "import requests\n",
    "from requests.adapters import HTTPAdapter\n",
    "from requests.exceptions import ConnectionError\n",
    "\n",
    "github_adapter = HTTPAdapter(max_retries=3)\n",
    "\n",
    "session = requests.Session()\n",
    "\n",
    "# Use `github_adapter` for all requests to endpoints that start with this URL\n",
    "session.mount('https://api.github.com', github_adapter)\n",
    "\n",
    "try:\n",
    "    session.get('https://api.github.com')\n",
    "except ConnectionError as ce:\n",
    "    print(ce)"
   ]
  },
  {
   "cell_type": "raw",
   "metadata": {},
   "source": [
    "When a request fails, you may want your application to retry the same request. However, requests will not do this for you by default. To apply this functionality, you need to implement a custom Transport Adapter.\n",
    "\n",
    "Transport Adapters let you define a set of configurations per service you’re interacting with. For example, let’s say you want all requests to https://api.github.com to retry three times before finally raising a ConnectionError. You would build a Transport Adapter, set its max_retries parameter, and mount it to an existing Session:\n",
    "\n"
   ]
  },
  {
   "cell_type": "raw",
   "metadata": {},
   "source": [
    "Timeouts, Transport Adapters, and sessions are for keeping your code efficient and your application resilient."
   ]
  },
  {
   "cell_type": "raw",
   "metadata": {},
   "source": [
    "Make requests using a variety of different HTTP methods such as GET, POST, and PUT\n",
    "Customize your requests by modifying headers, authentication, query strings, and message bodies\n",
    "Inspect the data you send to the server and the data the server sends back to you\n",
    "Work with SSL Certificate verification\n",
    "Use requests effectively using max_retries, timeout, Sessions, and Transport Adapters"
   ]
  },
  {
   "cell_type": "code",
   "execution_count": null,
   "metadata": {},
   "outputs": [],
   "source": []
  },
  {
   "cell_type": "code",
   "execution_count": null,
   "metadata": {},
   "outputs": [],
   "source": []
  },
  {
   "cell_type": "code",
   "execution_count": null,
   "metadata": {},
   "outputs": [],
   "source": []
  }
 ],
 "metadata": {
  "kernelspec": {
   "display_name": "Python 3",
   "language": "python",
   "name": "python3"
  },
  "language_info": {
   "codemirror_mode": {
    "name": "ipython",
    "version": 3
   },
   "file_extension": ".py",
   "mimetype": "text/x-python",
   "name": "python",
   "nbconvert_exporter": "python",
   "pygments_lexer": "ipython3",
   "version": "3.6.8"
  }
 },
 "nbformat": 4,
 "nbformat_minor": 2
}
