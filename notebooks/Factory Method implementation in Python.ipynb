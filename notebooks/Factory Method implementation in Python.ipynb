{
 "cells": [
  {
   "cell_type": "markdown",
   "metadata": {},
   "source": [
    "### Factory Method implementation in Python"
   ]
  },
  {
   "cell_type": "markdown",
   "metadata": {},
   "source": [
    "### Create some products. Objects"
   ]
  },
  {
   "cell_type": "code",
   "execution_count": 26,
   "metadata": {},
   "outputs": [],
   "source": [
    "class Milk:\n",
    "    \"\"\" Product class Milk \"\"\"\n",
    "\n",
    "    def __init__(self, product_type):\n",
    "        self.product_type = product_type\n",
    "\n",
    "    def __str__(self):\n",
    "        return \"Milk from {}\".format(self.product_type)\n",
    "\n",
    "class Cheese:\n",
    "    \"\"\" Product class Cheese \"\"\"\n",
    "\n",
    "    def __init__(self, product_type):\n",
    "        self.product_type = product_type\n",
    "\n",
    "    def __str__(self):\n",
    "        return \"Cheese from {}\".format(self.product_type)"
   ]
  },
  {
   "cell_type": "markdown",
   "metadata": {},
   "source": [
    "### Create the factory"
   ]
  },
  {
   "cell_type": "code",
   "execution_count": 24,
   "metadata": {},
   "outputs": [],
   "source": [
    "def factory_method(product=None):\n",
    "    \"\"\" The factory method \"\"\"\n",
    "    \n",
    "    # these classes are not initialized\n",
    "    factory = {\"milk\": Milk, \"cheese\": Cheese}\n",
    "    \n",
    "    if product and product in factory:\n",
    "        return factory[product]"
   ]
  },
  {
   "cell_type": "markdown",
   "metadata": {},
   "source": [
    "### Testing our factory"
   ]
  },
  {
   "cell_type": "code",
   "execution_count": 27,
   "metadata": {},
   "outputs": [
    {
     "name": "stdout",
     "output_type": "stream",
     "text": [
      "Product: Cheese from Gouda\n"
     ]
    }
   ],
   "source": [
    "# We want a product from our supermarket interface\n",
    "product_name = \"cheese\"\n",
    "\n",
    "# this product is not yet created\n",
    "product = factory_method(product_name)\n",
    "cheese = product(product_type='Gouda')\n",
    "\n",
    "print(f\"Product: {cheese}\")"
   ]
  },
  {
   "cell_type": "code",
   "execution_count": null,
   "metadata": {},
   "outputs": [],
   "source": []
  }
 ],
 "metadata": {
  "kernelspec": {
   "display_name": "Python 3",
   "language": "python",
   "name": "python3"
  },
  "language_info": {
   "codemirror_mode": {
    "name": "ipython",
    "version": 3
   },
   "file_extension": ".py",
   "mimetype": "text/x-python",
   "name": "python",
   "nbconvert_exporter": "python",
   "pygments_lexer": "ipython3",
   "version": "3.6.8"
  }
 },
 "nbformat": 4,
 "nbformat_minor": 2
}
