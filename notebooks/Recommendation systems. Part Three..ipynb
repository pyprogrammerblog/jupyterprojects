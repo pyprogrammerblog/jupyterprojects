{
  "cells": [
    {
      "cell_type": "code",
      "execution_count": 1,
      "metadata": {
        "pycharm": {}
      },
      "outputs": [
        {
          "name": "stderr",
          "output_type": "stream",
          "text": [
            "Using TensorFlow backend.\n"
          ]
        }
      ],
      "source": "from keras.models import load_model\nimport pandas as pd\nfrom pathlib import Path\nimport pickle\n\n\nclass ResultProvider(object):\n\n    def __init__(self, model\u003d\u0027trained_model.h5\u0027, scaler\u003d\u0027scaler.pkl\u0027):\n        \"\"\"\n        Constructor\n        \"\"\"\n        self._scaler_path \u003d self._path_to(scaler)\n        self._model_path \u003d self._path_to(model)\n        self._model \u003d load_model(self._model_path)\n        self.scaler \u003d self._load_scaler(self._scaler_path)\n        self._a \u003d self.scaler.min_[0]\n        self._b \u003d self.scaler.scale_[0]\n\n    def _load_scaler(self, scaler):\n        \"\"\"\n        Loader\n        \"\"\"\n        with open(scaler, \"rb\") as f:\n            scaler \u003d pickle.load(f)\n        return scaler\n\n    def _rescale(self, Y):\n        \"\"\"\n        Aux. method for rescaling results\n        \"\"\"\n        return (Y - self._a)/self._b\n\n    def _scale(self, df):\n        \"\"\"\n        Scaling\n        \"\"\"\n        scaling_training_df \u003d self.scaler.transform(df)\n        return pd.DataFrame(scaling_training_df, columns\u003ddf.columns.values)\n\n    def _path_to(self, path):\n        \"\"\"\n        Aux. method for path to\n        \"\"\"\n        path_object \u003d Path(path)\n        if path_object.is_file():\n            return path\n        else:\n            return ValueError(\"You should provide a proper path\")\n\n    def predict(self, df):\n        \"\"\"\n        Predicts\n        \"\"\"\n        scaled_df \u003d self._scale(df)\n        X \u003d self._preprocessing(scaled_df)\n        raw_prediction \u003d self._model.predict(X)\n        return self._rescale(raw_prediction[0][0])\n\n    def _preprocessing(self, scaled_df):\n        \"\"\"\n        Preprocessing\n        \"\"\"\n        return scaled_df.drop(\u0027price\u0027, axis\u003d1).values\n\n    def evaluate_error(self, X_test, Y_test, verbose\u003d0):\n        \"\"\"\n        Evaluating\n        \"\"\"\n        return self._model.evaluate(X_test, Y_test, verbose\u003dverbose)\n"
    },
    {
      "cell_type": "code",
      "execution_count": 2,
      "metadata": {
        "pycharm": {}
      },
      "outputs": [
        {
          "name": "stdout",
          "output_type": "stream",
          "text": [
            "Current value - € 207949.0\n",
            "Prediction - € 207995.49307668206\n"
          ]
        }
      ],
      "source": [
        "# Input data\n",
        "df \u003d pd.read_csv(\"new_house.csv\")\n",
        "\n",
        "# create and instance of the model\n",
        "model \u003d ResultProvider(model\u003d\u0027trained_model.h5\u0027, scaler\u003d\u0027scaler.pkl\u0027)\n",
        "\n",
        "# Prediction\n",
        "prediction \u003d model.predict(df)\n",
        "\n",
        "print(\"Current value - € {}\".format(df.iloc[0][0]))\n",
        "print(\"Prediction - € {}\".format(prediction))"
      ]
    },
    {
      "cell_type": "code",
      "execution_count": null,
      "metadata": {
        "pycharm": {}
      },
      "outputs": [],
      "source": []
    }
  ],
  "metadata": {
    "kernelspec": {
      "display_name": "Python 3",
      "language": "python",
      "name": "python3"
    },
    "language_info": {
      "codemirror_mode": {
        "name": "ipython",
        "version": 3
      },
      "file_extension": ".py",
      "mimetype": "text/x-python",
      "name": "python",
      "nbconvert_exporter": "python",
      "pygments_lexer": "ipython3",
      "version": "3.6.8"
    },
    "stem_cell": {
      "cell_type": "raw",
      "source": "",
      "metadata": {
        "pycharm": {
          "metadata": false
        }
      }
    }
  },
  "nbformat": 4,
  "nbformat_minor": 2
}