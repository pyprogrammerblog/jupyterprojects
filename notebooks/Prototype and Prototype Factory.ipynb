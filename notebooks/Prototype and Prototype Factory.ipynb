{
 "cells": [
  {
   "cell_type": "markdown",
   "metadata": {},
   "source": [
    "## Shallow copies and deep copies in Python"
   ]
  },
  {
   "cell_type": "markdown",
   "metadata": {},
   "source": [
    "### Create a class that handles Prototype creation"
   ]
  },
  {
   "cell_type": "code",
   "execution_count": 48,
   "metadata": {},
   "outputs": [],
   "source": [
    "import copy\n",
    "\n",
    "class Prototype:\n",
    "    \"\"\" Prototype class \"\"\"\n",
    "\n",
    "    def deep_clone(self):\n",
    "        return copy.deepcopy(self)\n",
    "\n",
    "    def shallow_clone(self):\n",
    "        return copy.copy(self)"
   ]
  },
  {
   "cell_type": "markdown",
   "metadata": {},
   "source": [
    "### Create a Product class"
   ]
  },
  {
   "cell_type": "code",
   "execution_count": 49,
   "metadata": {},
   "outputs": [],
   "source": [
    "class Cheese(Prototype):\n",
    "    \"\"\" Cheese class \"\"\"\n",
    "\n",
    "    def __init__(self, name=None, **kwargs):\n",
    "        self.name = name\n",
    "        self.properties = kwargs\n",
    "\n",
    "    def get_properties(self):\n",
    "        return self.properties\n",
    "\n",
    "    def get_property(self, key):\n",
    "        return self.properties.get(key, None)\n",
    "\n",
    "    def set_property(self, **kwargs):\n",
    "        self.properties.update(**kwargs)\n",
    "\n",
    "    def delete_property(self, key):\n",
    "        del self.properties[key]"
   ]
  },
  {
   "cell_type": "markdown",
   "metadata": {},
   "source": [
    "### Let us prototype"
   ]
  },
  {
   "cell_type": "code",
   "execution_count": 50,
   "metadata": {},
   "outputs": [],
   "source": [
    "cheese = Cheese(\"Manchego\")\n",
    "cheese.set_property(color='yellow', texture='soft')\n",
    "dp_cheese = cheese.deep_clone()\n",
    "sc_cheese = cheese.shallow_clone()"
   ]
  },
  {
   "cell_type": "markdown",
   "metadata": {},
   "source": [
    "### Once we created our prototypes let us change any property in the object used to make the copy"
   ]
  },
  {
   "cell_type": "code",
   "execution_count": 51,
   "metadata": {},
   "outputs": [
    {
     "name": "stdout",
     "output_type": "stream",
     "text": [
      "Gouda:   {'color': 'yellow', 'texture': 'soft', 'nationality': 'Spanish'}\n",
      "Shallow: {'color': 'yellow', 'texture': 'soft'}\n",
      "Deep:    {'color': 'yellow', 'texture': 'soft', 'nationality': 'Spanish'}\n"
     ]
    }
   ],
   "source": [
    "cheese.set_property(nationality='Spanish')\n",
    "\n",
    "print(f\"Gouda:   {cheese.get_properties()}\")\n",
    "print(f\"Shallow: {dp_cheese.get_properties()}\")\n",
    "print(f\"Deep:    {sc_cheese.get_properties()}\")"
   ]
  },
  {
   "cell_type": "markdown",
   "metadata": {},
   "source": [
    "### The Prototype Factory"
   ]
  },
  {
   "cell_type": "code",
   "execution_count": 52,
   "metadata": {},
   "outputs": [],
   "source": [
    "class Prototype:\n",
    "    \"\"\" Prototype Factory \"\"\"\n",
    "\n",
    "    def __init__(self):\n",
    "        self._instances = {}\n",
    "\n",
    "    def get_instance(self, name):\n",
    "        return self._instances.get(name)\n",
    "\n",
    "    def register_instance(self, name, instance):\n",
    "        self._instances[name] = instance\n",
    "\n",
    "    def unregister_instance(self, name):\n",
    "        del self._instances[name]\n",
    "\n",
    "    def clone(self, name, **kwargs):\n",
    "        \"\"\" Clone a registered instance \"\"\"\n",
    "        instance = self.get_instance(name)\n",
    "        clone = copy.deepcopy(instance)\n",
    "        clone.properties.update(kwargs)\n",
    "        return clone"
   ]
  },
  {
   "cell_type": "markdown",
   "metadata": {},
   "source": [
    "### Registering our instance"
   ]
  },
  {
   "cell_type": "code",
   "execution_count": 53,
   "metadata": {},
   "outputs": [
    {
     "data": {
      "text/plain": [
       "{'name': 'Manchego', 'properties': {'nationality': 'Spanish'}}"
      ]
     },
     "execution_count": 53,
     "metadata": {},
     "output_type": "execute_result"
    }
   ],
   "source": [
    "prototype_factory = Prototype()\n",
    "\n",
    "# we create two objects\n",
    "gouda = Cheese(\"Gouda\")\n",
    "manchego = Cheese(\"Manchego\")\n",
    "\n",
    "# register them\n",
    "prototype_factory.register_instance('gouda', gouda)\n",
    "prototype_factory.register_instance('manchego', manchego)\n",
    "\n",
    "# clone\n",
    "cloned_manchego = prototype_factory.clone('manchego', nationality='Spanish')\n",
    "cloned_manchego.__dict__"
   ]
  },
  {
   "cell_type": "code",
   "execution_count": null,
   "metadata": {},
   "outputs": [],
   "source": []
  }
 ],
 "metadata": {
  "kernelspec": {
   "display_name": "Python 3",
   "language": "python",
   "name": "python3"
  },
  "language_info": {
   "codemirror_mode": {
    "name": "ipython",
    "version": 3
   },
   "file_extension": ".py",
   "mimetype": "text/x-python",
   "name": "python",
   "nbconvert_exporter": "python",
   "pygments_lexer": "ipython3",
   "version": "3.6.8"
  }
 },
 "nbformat": 4,
 "nbformat_minor": 2
}
