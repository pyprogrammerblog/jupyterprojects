{
 "cells": [
  {
   "cell_type": "raw",
   "metadata": {},
   "source": [
    "Prototype and Prototype Factory.\n",
    "\n",
    "In this video I want to show:\n",
    "\n",
    "What is Prototyping?\n",
    "What is a Prototype Factory?"
   ]
  },
  {
   "cell_type": "markdown",
   "metadata": {},
   "source": [
    "### Shallow copies and deep copies in Python"
   ]
  },
  {
   "cell_type": "code",
   "execution_count": 79,
   "metadata": {},
   "outputs": [],
   "source": [
    "import copy\n",
    "\n",
    "class Prototype:\n",
    "    \"\"\" Prototype class \"\"\"\n",
    "\n",
    "    def deep_clone(self):\n",
    "        return copy.deepcopy(self)\n",
    "\n",
    "    def shallow_clone(self):\n",
    "        return copy.copy(self)\n",
    "\n",
    "\n",
    "class Cheese(Prototype):\n",
    "    \"\"\" Cheese class \"\"\"\n",
    "\n",
    "    def __init__(self, name=None, **kwargs):\n",
    "        self.name = name\n",
    "        self._properties = kwargs\n",
    "\n",
    "    def get_properties(self):\n",
    "        return self._properties\n",
    "\n",
    "    def get_property(self, key):\n",
    "        return self._properties.get(key, None)\n",
    "\n",
    "    def set_property(self, **kwargs):\n",
    "        self._properties.update(**kwargs)\n",
    "\n",
    "    def delete_property(self, key):\n",
    "        del self._properties[key]"
   ]
  },
  {
   "cell_type": "code",
   "execution_count": 80,
   "metadata": {},
   "outputs": [],
   "source": [
    "gouda = Cheese(\"Gouda\")\n",
    "gouda.set_property(color='yellow', texture='soft')\n",
    "deep_clone_gouda = gouda.deep_clone()\n",
    "shallow_clone_gouda = gouda.shallow_clone()"
   ]
  },
  {
   "cell_type": "code",
   "execution_count": 81,
   "metadata": {},
   "outputs": [
    {
     "name": "stdout",
     "output_type": "stream",
     "text": [
      "Gouda:   {'color': 'yellow', 'texture': 'soft', 'nationality': 'Dutch'}\n",
      "Shallow: {'color': 'yellow', 'texture': 'soft', 'nationality': 'Dutch'}\n",
      "Deep:    {'color': 'yellow', 'texture': 'soft'}\n"
     ]
    }
   ],
   "source": [
    "gouda.set_property(nationality='Dutch')\n",
    "print(f\"Gouda:   {gouda.get_properties()}\")\n",
    "print(f\"Shallow: {shallow_clone_gouda.get_properties()}\")\n",
    "print(f\"Deep:    {deep_clone_gouda.get_properties()}\")"
   ]
  },
  {
   "cell_type": "markdown",
   "metadata": {},
   "source": [
    "### The Prototype Factory"
   ]
  },
  {
   "cell_type": "code",
   "execution_count": 86,
   "metadata": {},
   "outputs": [],
   "source": [
    "import copy\n",
    "\n",
    "\n",
    "class Prototype:\n",
    "    \"\"\" Prototype Factory \"\"\"\n",
    "\n",
    "    def __init__(self):\n",
    "        self._instances = {}\n",
    "\n",
    "    def get_instance(self, name):\n",
    "        return self._instances.get(name)\n",
    "\n",
    "    def register_instance(self, name, instance):\n",
    "        self._instances[name] = instance\n",
    "\n",
    "    def unregister_instance(self, name):\n",
    "        del self._instances[name]\n",
    "\n",
    "    def clone(self, name, **kwargs):\n",
    "        \"\"\" Clone a registered instance \"\"\"\n",
    "        instance = self.get_instance(name)\n",
    "        clone = copy.deepcopy(instance)\n",
    "        clone._properties.update(kwargs)\n",
    "        return clone"
   ]
  },
  {
   "cell_type": "markdown",
   "metadata": {},
   "source": [
    "#### Registering our instance"
   ]
  },
  {
   "cell_type": "code",
   "execution_count": 88,
   "metadata": {},
   "outputs": [
    {
     "data": {
      "text/plain": [
       "{'name': 'Gouda', '_properties': {'nationality': 'Dutch'}}"
      ]
     },
     "execution_count": 88,
     "metadata": {},
     "output_type": "execute_result"
    }
   ],
   "source": [
    "p_factory = Prototype()\n",
    "\n",
    "# we create two objects\n",
    "gouda = Cheese(\"Gouda\")\n",
    "manchego = Cheese(\"Manchego\")\n",
    "\n",
    "# register them\n",
    "p_factory.register_instance('gouda', gouda)\n",
    "p_factory.register_instance('manchego', manchego)\n",
    "\n",
    "# clone\n",
    "cloned_gouda = p_factory.clone('gouda', nationality='Dutch')\n",
    "cloned_gouda.__dict__"
   ]
  },
  {
   "cell_type": "code",
   "execution_count": null,
   "metadata": {},
   "outputs": [],
   "source": []
  }
 ],
 "metadata": {
  "kernelspec": {
   "display_name": "Python 3",
   "language": "python",
   "name": "python3"
  },
  "language_info": {
   "codemirror_mode": {
    "name": "ipython",
    "version": 3
   },
   "file_extension": ".py",
   "mimetype": "text/x-python",
   "name": "python",
   "nbconvert_exporter": "python",
   "pygments_lexer": "ipython3",
   "version": "3.6.8"
  }
 },
 "nbformat": 4,
 "nbformat_minor": 2
}
