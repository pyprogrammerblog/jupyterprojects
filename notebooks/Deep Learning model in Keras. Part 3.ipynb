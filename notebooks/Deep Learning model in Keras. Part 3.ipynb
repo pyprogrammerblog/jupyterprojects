{
 "cells": [
  {
   "cell_type": "code",
   "execution_count": 1,
   "metadata": {},
   "outputs": [
    {
     "ename": "ModuleNotFoundError",
     "evalue": "No module named 'keras'",
     "output_type": "error",
     "traceback": [
      "\u001b[0;31m---------------------------------------------------------------------------\u001b[0m",
      "\u001b[0;31mModuleNotFoundError\u001b[0m                       Traceback (most recent call last)",
      "\u001b[0;32m<ipython-input-1-e6537061f08f>\u001b[0m in \u001b[0;36m<module>\u001b[0;34m\u001b[0m\n\u001b[0;32m----> 1\u001b[0;31m \u001b[0;32mfrom\u001b[0m \u001b[0mkeras\u001b[0m\u001b[0;34m.\u001b[0m\u001b[0mmodels\u001b[0m \u001b[0;32mimport\u001b[0m \u001b[0mload_model\u001b[0m\u001b[0;34m\u001b[0m\u001b[0m\n\u001b[0m\u001b[1;32m      2\u001b[0m \u001b[0;32mimport\u001b[0m \u001b[0mpandas\u001b[0m \u001b[0;32mas\u001b[0m \u001b[0mpd\u001b[0m\u001b[0;34m\u001b[0m\u001b[0m\n\u001b[1;32m      3\u001b[0m \u001b[0;32mfrom\u001b[0m \u001b[0mpathlib\u001b[0m \u001b[0;32mimport\u001b[0m \u001b[0mPath\u001b[0m\u001b[0;34m\u001b[0m\u001b[0m\n\u001b[1;32m      4\u001b[0m \u001b[0;32mimport\u001b[0m \u001b[0mpickle\u001b[0m\u001b[0;34m\u001b[0m\u001b[0m\n\u001b[1;32m      5\u001b[0m \u001b[0;34m\u001b[0m\u001b[0m\n",
      "\u001b[0;31mModuleNotFoundError\u001b[0m: No module named 'keras'"
     ]
    }
   ],
   "source": [
    "from keras.models import load_model\n",
    "import pandas as pd\n",
    "from pathlib import Path\n",
    "import pickle\n",
    "\n",
    "\n",
    "class ModelProvider(object):\n",
    "\n",
    "    def __init__(self, model='trained_model.h5', scaler='scaler.pkl'):\n",
    "        \"\"\"\n",
    "        Constructor\n",
    "        \"\"\"\n",
    "        self._scaler_path = self._path_to(scaler)\n",
    "        self._model_path = self._path_to(model)\n",
    "        self._model = load_model(self._model_path)\n",
    "        self.scaler = self._load_scaler(self._scaler_path)\n",
    "        self._a = self.scaler.min_[0]\n",
    "        self._b = self.scaler.scale_[0]\n",
    "\n",
    "    def _load_scaler(self, scaler):\n",
    "        \"\"\"\n",
    "        Loader\n",
    "        \"\"\"\n",
    "        with open(scaler, \"rb\") as f:\n",
    "            scaler = pickle.load(f)\n",
    "        return scaler\n",
    "\n",
    "    def _rescale(self, Y):\n",
    "        \"\"\"\n",
    "        Aux. method for rescaling results\n",
    "        \"\"\"\n",
    "        return (Y - self._a)/self._b\n",
    "\n",
    "    def _scale(self, df):\n",
    "        \"\"\"\n",
    "        Scaling\n",
    "        \"\"\"\n",
    "        scaling_training_df = self.scaler.transform(df)\n",
    "        return pd.DataFrame(scaling_training_df, columns=df.columns.values)\n",
    "\n",
    "    def _path_to(self, path):\n",
    "        \"\"\"\n",
    "        Aux. method for path to\n",
    "        \"\"\"\n",
    "        path_object = Path(path)\n",
    "        if path_object.is_file():\n",
    "            return path\n",
    "        else:\n",
    "            return ValueError(\"You should provide a proper path\")\n",
    "\n",
    "    def predict(self, df):\n",
    "        \"\"\"\n",
    "        Predicts\n",
    "        \"\"\"\n",
    "        scaled_df = self._scale(df)\n",
    "        X = self._preprocessing(scaled_df)\n",
    "        raw_prediction = self._model.predict(X)\n",
    "        return self._rescale(raw_prediction[0][0])\n",
    "\n",
    "    def _preprocessing(self, scaled_df):\n",
    "        \"\"\"\n",
    "        Preprocessing\n",
    "        \"\"\"\n",
    "        return scaled_df.drop('price', axis=1).values\n",
    "\n",
    "    def evaluate_error(self, X_test, Y_test, verbose=0):\n",
    "        \"\"\"\n",
    "        Evaluating\n",
    "        \"\"\"\n",
    "        return self._model.evaluate(X_test, Y_test, verbose=verbose)\n"
   ]
  },
  {
   "cell_type": "code",
   "execution_count": 2,
   "metadata": {},
   "outputs": [
    {
     "ename": "NameError",
     "evalue": "name 'pd' is not defined",
     "output_type": "error",
     "traceback": [
      "\u001b[0;31m---------------------------------------------------------------------------\u001b[0m",
      "\u001b[0;31mNameError\u001b[0m                                 Traceback (most recent call last)",
      "\u001b[0;32m<ipython-input-2-5fce74770f75>\u001b[0m in \u001b[0;36m<module>\u001b[0;34m\u001b[0m\n\u001b[1;32m      1\u001b[0m \u001b[0;31m# Input data\u001b[0m\u001b[0;34m\u001b[0m\u001b[0;34m\u001b[0m\u001b[0m\n\u001b[0;32m----> 2\u001b[0;31m \u001b[0mdf\u001b[0m \u001b[0;34m=\u001b[0m \u001b[0mpd\u001b[0m\u001b[0;34m.\u001b[0m\u001b[0mread_csv\u001b[0m\u001b[0;34m(\u001b[0m\u001b[0;34m\"new_house.csv\"\u001b[0m\u001b[0;34m)\u001b[0m\u001b[0;34m\u001b[0m\u001b[0m\n\u001b[0m\u001b[1;32m      3\u001b[0m \u001b[0;34m\u001b[0m\u001b[0m\n\u001b[1;32m      4\u001b[0m \u001b[0;31m# create and instance of the model\u001b[0m\u001b[0;34m\u001b[0m\u001b[0;34m\u001b[0m\u001b[0m\n\u001b[1;32m      5\u001b[0m \u001b[0mmodel\u001b[0m \u001b[0;34m=\u001b[0m \u001b[0mModelProvider\u001b[0m\u001b[0;34m(\u001b[0m\u001b[0mmodel\u001b[0m\u001b[0;34m=\u001b[0m\u001b[0;34m'trained_model.h5'\u001b[0m\u001b[0;34m,\u001b[0m \u001b[0mscaler\u001b[0m\u001b[0;34m=\u001b[0m\u001b[0;34m'scaler.pkl'\u001b[0m\u001b[0;34m)\u001b[0m\u001b[0;34m\u001b[0m\u001b[0m\n",
      "\u001b[0;31mNameError\u001b[0m: name 'pd' is not defined"
     ]
    }
   ],
   "source": [
    "    # Input data\n",
    "    df = pd.read_csv(\"new_house.csv\")\n",
    "\n",
    "    # create and instance of the model\n",
    "    model = ModelProvider(model='trained_model.h5', scaler='scaler.pkl')\n",
    "\n",
    "    # Prediction\n",
    "    prediction = model.predict(df)\n",
    "\n",
    "    print(\"Current value - € {}\".format(df.iloc[0][0]))\n",
    "    print(\"Prediction - € {}\".format(prediction))"
   ]
  },
  {
   "cell_type": "code",
   "execution_count": null,
   "metadata": {},
   "outputs": [],
   "source": []
  }
 ],
 "metadata": {
  "kernelspec": {
   "display_name": "Python 3",
   "language": "python",
   "name": "python3"
  },
  "language_info": {
   "codemirror_mode": {
    "name": "ipython",
    "version": 3
   },
   "file_extension": ".py",
   "mimetype": "text/x-python",
   "name": "python",
   "nbconvert_exporter": "python",
   "pygments_lexer": "ipython3",
   "version": "3.6.6"
  }
 },
 "nbformat": 4,
 "nbformat_minor": 2
}
