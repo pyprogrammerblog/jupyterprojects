{
 "cells": [
  {
   "cell_type": "markdown",
   "metadata": {},
   "source": [
    "### Factory Method implementation in Python"
   ]
  },
  {
   "cell_type": "code",
   "execution_count": 2,
   "metadata": {},
   "outputs": [
    {
     "name": "stdout",
     "output_type": "stream",
     "text": [
      "Asking for cheese and milk\n",
      "Picking Cheese from Gouda\n",
      "Picking Milk from Milk Company\n"
     ]
    }
   ],
   "source": [
    "class Milk:\n",
    "    \"\"\"A simple milk class\"\"\"\n",
    "\n",
    "    def __init__(self, brand):\n",
    "        self._brand = brand\n",
    "\n",
    "    # To implement more functionality\n",
    "\n",
    "    def __str__(self):\n",
    "        return \"Milk from {}\".format(self._brand)\n",
    "\n",
    "\n",
    "class Cheese:\n",
    "    \"\"\"A simple cheese class\"\"\"\n",
    "\n",
    "    def __init__(self, brand):\n",
    "        self._brand = brand\n",
    "\n",
    "    # To implement more functionality\n",
    "\n",
    "    def __str__(self):\n",
    "        return \"Cheese from {}\".format(self._brand)\n",
    "\n",
    "\n",
    "def factory_method(key=\"Gouda\"):\n",
    "    \"\"\"The factory method\"\"\"\n",
    "\n",
    "    factory_dict = dict(milk=Milk(\"Milk Company\"), cheese=Cheese(\"Gouda\"))\n",
    "    return factory_dict[key]\n",
    "\n",
    "\n",
    "def main():\n",
    "    print(\"Asking for cheese and milk\")\n",
    "\n",
    "    what_i_want = \"cheese\"\n",
    "    d = factory_method(what_i_want)\n",
    "    print(\"Picking {0}\".format(d))\n",
    "\n",
    "    what_i_want = \"milk\"\n",
    "    c = factory_method(what_i_want)\n",
    "    print(\"Picking {0}\".format(c))\n",
    "\n",
    "\n",
    "if __name__ == \"__main__\":\n",
    "    main()"
   ]
  },
  {
   "cell_type": "code",
   "execution_count": null,
   "metadata": {},
   "outputs": [],
   "source": []
  }
 ],
 "metadata": {
  "kernelspec": {
   "display_name": "Python 3",
   "language": "python",
   "name": "python3"
  },
  "language_info": {
   "codemirror_mode": {
    "name": "ipython",
    "version": 3
   },
   "file_extension": ".py",
   "mimetype": "text/x-python",
   "name": "python",
   "nbconvert_exporter": "python",
   "pygments_lexer": "ipython3",
   "version": "3.6.8"
  }
 },
 "nbformat": 4,
 "nbformat_minor": 2
}
