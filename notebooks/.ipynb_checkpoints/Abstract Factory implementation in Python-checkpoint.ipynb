{
 "cells": [
  {
   "cell_type": "markdown",
   "metadata": {},
   "source": [
    "### Abstract Factory implementation in Python\n"
   ]
  },
  {
   "cell_type": "markdown",
   "metadata": {},
   "source": [
    "#### We create a Product Class"
   ]
  },
  {
   "cell_type": "code",
   "execution_count": 49,
   "metadata": {},
   "outputs": [],
   "source": [
    "class MyProduct1:\n",
    "    \n",
    "    def get_price(self):\n",
    "        return \"very expensive!\"\n",
    "    \n",
    "    def get_name(self):\n",
    "        return \"My Product 1\"\n",
    "    \n",
    "class MyProduct2:\n",
    "    \n",
    "    def get_price(self):\n",
    "        return \"very cheap!\"\n",
    "\n",
    "    def get_name(self):\n",
    "        return f\"My Product 2\""
   ]
  },
  {
   "cell_type": "markdown",
   "metadata": {},
   "source": [
    "#### We create a ProductFactory Class"
   ]
  },
  {
   "cell_type": "code",
   "execution_count": 50,
   "metadata": {},
   "outputs": [],
   "source": [
    "class Factory:\n",
    "    \n",
    "    def __init__(self):\n",
    "        self.products = {}\n",
    "\n",
    "    def get_product(self, name):\n",
    "        return self.products.get(name, None)\n",
    "\n",
    "    def set_product(self, **kwargs):\n",
    "        self.products.update(**kwargs)"
   ]
  },
  {
   "cell_type": "markdown",
   "metadata": {},
   "source": [
    "#### We create a ProductFactory Class"
   ]
  },
  {
   "cell_type": "code",
   "execution_count": 51,
   "metadata": {},
   "outputs": [],
   "source": [
    "class Supermarket:\n",
    "    \"\"\" Abstract Factory houses our Product Factory. \n",
    "        \n",
    "    \"\"\"\n",
    "    def __init__(self, factory=None):\n",
    "        self.factory = factory\n",
    "\n",
    "    def get_product(self, product_name):\n",
    "        product_class = factory.get_product(product_name)\n",
    "        return product_class()"
   ]
  },
  {
   "cell_type": "markdown",
   "metadata": {},
   "source": [
    "#### Let us test our code"
   ]
  },
  {
   "cell_type": "code",
   "execution_count": 52,
   "metadata": {},
   "outputs": [
    {
     "name": "stdout",
     "output_type": "stream",
     "text": [
      "My Product 1 is very expensive!\n"
     ]
    }
   ],
   "source": [
    "# Create a Concrete Factory of the food that you like\n",
    "# in my case is MyProduct\n",
    "factory = Factory()\n",
    "factory.set_product(product_1=MyProduct1, product_2=MyProduct)\n",
    "\n",
    "# Create a shop housing our Abstract Factory\n",
    "# Abstract factory receives a concrete factory\n",
    "shop = Supermarket(factory)\n",
    "\n",
    "# Invoke the utility method to show the details of our product\n",
    "final_product = shop.get_product('product_1')\n",
    "print(f\"{final_product.get_name()} is {final_product.get_price()}\")"
   ]
  },
  {
   "cell_type": "code",
   "execution_count": null,
   "metadata": {},
   "outputs": [],
   "source": []
  }
 ],
 "metadata": {
  "kernelspec": {
   "display_name": "Python 3",
   "language": "python",
   "name": "python3"
  },
  "language_info": {
   "codemirror_mode": {
    "name": "ipython",
    "version": 3
   },
   "file_extension": ".py",
   "mimetype": "text/x-python",
   "name": "python",
   "nbconvert_exporter": "python",
   "pygments_lexer": "ipython3",
   "version": "3.6.8"
  }
 },
 "nbformat": 4,
 "nbformat_minor": 2
}
