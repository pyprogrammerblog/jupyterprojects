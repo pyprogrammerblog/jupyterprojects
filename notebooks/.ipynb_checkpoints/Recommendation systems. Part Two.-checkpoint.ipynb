{
 "cells": [
  {
   "cell_type": "raw",
   "metadata": {},
   "source": [
    "Types of Recommendation Systems\n",
    "\n",
    "1. Non-Machine Learning methods: \n",
    "1.1 General Counting.\n",
    "1.2 Product Correlation\n",
    "1.3 Rating Average.\n",
    "\n",
    "2. Machine Learning methods:\n",
    "2.1 Logistic regression.\n",
    "2.2 Collaborative Filtering.\n",
    "2.3 K-Nearest Neighbors."
   ]
  },
  {
   "cell_type": "markdown",
   "metadata": {},
   "source": [
    "### Creating data for our example"
   ]
  },
  {
   "cell_type": "markdown",
   "metadata": {},
   "source": [
    "### Logistic Regression"
   ]
  },
  {
   "cell_type": "code",
   "execution_count": 7,
   "metadata": {},
   "outputs": [
    {
     "ename": "ModuleNotFoundError",
     "evalue": "No module named 'sklearn'",
     "output_type": "error",
     "traceback": [
      "\u001b[0;31m---------------------------------------------------------------------------\u001b[0m",
      "\u001b[0;31mModuleNotFoundError\u001b[0m                       Traceback (most recent call last)",
      "\u001b[0;32m<ipython-input-7-91374a6d689e>\u001b[0m in \u001b[0;36m<module>\u001b[0;34m\u001b[0m\n\u001b[1;32m      1\u001b[0m \u001b[0;32mimport\u001b[0m \u001b[0mpandas\u001b[0m \u001b[0;32mas\u001b[0m \u001b[0mpd\u001b[0m\u001b[0;34m\u001b[0m\u001b[0m\n\u001b[0;32m----> 2\u001b[0;31m \u001b[0;32mfrom\u001b[0m \u001b[0msklearn\u001b[0m\u001b[0;34m.\u001b[0m\u001b[0mlinear_model\u001b[0m \u001b[0;32mimport\u001b[0m \u001b[0mLogisticRegression\u001b[0m\u001b[0;34m\u001b[0m\u001b[0m\n\u001b[0m\u001b[1;32m      3\u001b[0m \u001b[0;32mfrom\u001b[0m \u001b[0msklearn\u001b[0m\u001b[0;34m.\u001b[0m\u001b[0mmetrics\u001b[0m \u001b[0;32mimport\u001b[0m \u001b[0mclassification_report\u001b[0m\u001b[0;34m\u001b[0m\u001b[0m\n\u001b[1;32m      4\u001b[0m \u001b[0;34m\u001b[0m\u001b[0m\n\u001b[1;32m      5\u001b[0m \u001b[0mnew_client\u001b[0m \u001b[0;34m=\u001b[0m \u001b[0mpd\u001b[0m\u001b[0;34m.\u001b[0m\u001b[0mread_csv\u001b[0m\u001b[0;34m(\u001b[0m\u001b[0;34m'product.csv'\u001b[0m\u001b[0;34m)\u001b[0m\u001b[0;34m\u001b[0m\u001b[0m\n",
      "\u001b[0;31mModuleNotFoundError\u001b[0m: No module named 'sklearn'"
     ]
    }
   ],
   "source": [
    "import pandas as pd\n",
    "from sklearn.linear_model import LogisticRegression\n",
    "from sklearn.metrics import classification_report\n",
    "\n",
    "new_client = pd.read_csv('product.csv')\n",
    "product_featured = pd.read_csv('product_featured.csv')\n",
    "\n",
    "# all columns but last as inputs features for model\n",
    "X = product_featured.ix[:, :-1].values\n",
    "# last column to predict. input labels\n",
    "y = product_featured.ix[:, -1].values\n",
    "\n",
    "x = x.values  # what we want to classified\n",
    "\n",
    "model = LogisticRegression()\n",
    "model_trained = model.fit(X, y)\n",
    "y_pred = model_trained.predict(x)\n",
    "\n",
    "Y_pred = model_trained.predict(X)\n",
    "print(classification_report(y, Y_pred))\n",
    "print(\"Is this person valid for this Product? {}\".format(\"Yes\" if y_pred <= .5 else \"No\"))"
   ]
  },
  {
   "cell_type": "code",
   "execution_count": 4,
   "metadata": {},
   "outputs": [],
   "source": [
    "### K-Nearest Neighbors"
   ]
  },
  {
   "cell_type": "code",
   "execution_count": 5,
   "metadata": {},
   "outputs": [
    {
     "ename": "ModuleNotFoundError",
     "evalue": "No module named 'sklearn'",
     "output_type": "error",
     "traceback": [
      "\u001b[0;31m---------------------------------------------------------------------------\u001b[0m",
      "\u001b[0;31mModuleNotFoundError\u001b[0m                       Traceback (most recent call last)",
      "\u001b[0;32m<ipython-input-5-d81bc45d0675>\u001b[0m in \u001b[0;36m<module>\u001b[0;34m\u001b[0m\n\u001b[1;32m      1\u001b[0m \u001b[0;32mimport\u001b[0m \u001b[0mpandas\u001b[0m \u001b[0;32mas\u001b[0m \u001b[0mpd\u001b[0m\u001b[0;34m\u001b[0m\u001b[0m\n\u001b[0;32m----> 2\u001b[0;31m \u001b[0;32mfrom\u001b[0m \u001b[0msklearn\u001b[0m\u001b[0;34m.\u001b[0m\u001b[0mneighbors\u001b[0m \u001b[0;32mimport\u001b[0m \u001b[0mNearestNeighbors\u001b[0m\u001b[0;34m\u001b[0m\u001b[0m\n\u001b[0m\u001b[1;32m      3\u001b[0m \u001b[0;34m\u001b[0m\u001b[0m\n\u001b[1;32m      4\u001b[0m \u001b[0;32mdef\u001b[0m \u001b[0mbased_on_knn\u001b[0m\u001b[0;34m(\u001b[0m\u001b[0mproduct_featured\u001b[0m\u001b[0;34m,\u001b[0m \u001b[0mproduct\u001b[0m\u001b[0;34m,\u001b[0m \u001b[0mn_neighbors\u001b[0m\u001b[0;34m)\u001b[0m\u001b[0;34m:\u001b[0m\u001b[0;34m\u001b[0m\u001b[0m\n\u001b[1;32m      5\u001b[0m     \"\"\"\n",
      "\u001b[0;31mModuleNotFoundError\u001b[0m: No module named 'sklearn'"
     ]
    }
   ],
   "source": [
    "import pandas as pd\n",
    "from sklearn.neighbors import NearestNeighbors\n",
    "\n",
    "def based_on_knn(product_featured, product, n_neighbors):\n",
    "    \"\"\"\n",
    "    KNN\n",
    "    \"\"\"\n",
    "    X = product_featured.values\n",
    "\n",
    "    model = NearestNeighbors(n_neighbors=n_neighbors)\n",
    "    trained_model = model.fit(X)\n",
    "\n",
    "    return trained_model.kneighbors(product)\n",
    "\n",
    "\n",
    "def main():\n",
    "    # This is the number of closer products I want.\n",
    "    n_neighbors = 5\n",
    "    # This is the list of rated products\n",
    "    product_featured = pd.read_csv('product_features.csv')\n",
    "    # This is the product that user is currently viewing, so we need 5 closer to this.\n",
    "    product = pd.read_csv('product.csv')\n",
    "\n",
    "    result = based_on_knn(product_featured, product, n_neighbors)\n",
    "\n",
    "    print('Product to label')\n",
    "    print(product)\n",
    "    print('Product closest by features are {}'.format(list(result[1][0])))\n",
    "    print(product_featured.iloc[list(result[1][0])])\n",
    "\n",
    "\n",
    "if __name__ == \"__main__\":\n",
    "    main()"
   ]
  },
  {
   "cell_type": "code",
   "execution_count": 6,
   "metadata": {},
   "outputs": [],
   "source": [
    "### Collaborative filtering"
   ]
  },
  {
   "cell_type": "code",
   "execution_count": null,
   "metadata": {},
   "outputs": [],
   "source": [
    "import pandas as pd\n",
    "import numpy as np\n",
    "from sklearn.decomposition import TruncatedSVD\n",
    "\n",
    "def based_on_svd(ratings_df, products_df, name, corr_value):\n",
    "    \"\"\"\n",
    "    1000 people with 50 products. We got 10000 recommendations\n",
    "    so our matrix will have many empty places. No worries, it is not a problem\n",
    "    \"\"\"\n",
    "    # Utility  1000x50  1000 people x 50 product\n",
    "    ratings_pivot = pd.pivot_table(\n",
    "        data=ratings_df,\n",
    "        values='rating',\n",
    "        index='userID',\n",
    "        columns='productID',\n",
    "        fill_value=0\n",
    "    )\n",
    "\n",
    "    # Transposing\n",
    "    X = ratings_pivot.T  # 50x1000  50 product x 1000 people\n",
    "\n",
    "    # Truncate to build a matrix with 'features' (12 but you can change) and get M = L x U\n",
    "    SVD = TruncatedSVD(n_components=12, random_state=17)\n",
    "    decomposed_matrix = SVD.fit_transform(X)  # L = 50x12  50 products x 12 features\n",
    "\n",
    "    # correlation matrix on L Matrix, we get 50x50, diagonal matrix\n",
    "    corr_mat = np.corrcoef(decomposed_matrix) \n",
    "\n",
    "    # get the product id input by user\n",
    "    index_column = products_df[products_df['productName'] == name].index[0]\n",
    "\n",
    "    # get the correlation values (vector) of the product respect to the rest,\n",
    "    # If user search for corr. of 5th product, the 5th position of the vector is 1 (diagonal)\n",
    "    product_corr_values = corr_mat[index_column]\n",
    "\n",
    "    # mask values of dataframe with values of corr higher than....\n",
    "    return products_df[product_corr_values >= corr_value]\n",
    "\n",
    "\n",
    "def main():\n",
    "    # client requirements, highly correlated product with name:\n",
    "    name = 'CNIwdVaBLH'\n",
    "    corr_value = 0.7\n",
    "\n",
    "    # model source\n",
    "    ratings_df = pd.read_csv('product_ratings.csv')\n",
    "    products_df = pd.read_csv('product_list.csv')\n",
    "\n",
    "    # feedback\n",
    "    result = based_on_svd(ratings_df, products_df, name, corr_value)\n",
    "    print(result)\n",
    "\n",
    "if __name__ == \"__main__\":\n",
    "    main()"
   ]
  }
 ],
 "metadata": {
  "kernelspec": {
   "display_name": "Python 3",
   "language": "python",
   "name": "python3"
  },
  "language_info": {
   "codemirror_mode": {
    "name": "ipython",
    "version": 3
   },
   "file_extension": ".py",
   "mimetype": "text/x-python",
   "name": "python",
   "nbconvert_exporter": "python",
   "pygments_lexer": "ipython3",
   "version": "3.6.6"
  }
 },
 "nbformat": 4,
 "nbformat_minor": 2
}
