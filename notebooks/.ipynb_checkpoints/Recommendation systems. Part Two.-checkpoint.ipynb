{
 "cells": [
  {
   "cell_type": "raw",
   "metadata": {},
   "source": [
    "Types of Recommendation Systems\n",
    "\n",
    "1. Non-Machine Learning methods: \n",
    "1.1 General Counting.\n",
    "1.2 Product Correlation\n",
    "1.3 Rating Average.\n",
    "\n",
    "2. Machine Learning methods:\n",
    "2.1 Logistic regression.\n",
    "2.2 Collaborative Filtering.\n",
    "2.3 K-Nearest Neighbors."
   ]
  },
  {
   "cell_type": "code",
   "execution_count": 62,
   "metadata": {},
   "outputs": [
    {
     "name": "stdout",
     "output_type": "stream",
     "text": [
      "Requirement already satisfied: sklearn in /Users/jose/anaconda3/lib/python3.6/site-packages (0.0)\n",
      "Requirement already satisfied: scikit-learn in /Users/jose/anaconda3/lib/python3.6/site-packages (from sklearn) (0.22.1)\n",
      "Requirement already satisfied: joblib>=0.11 in /Users/jose/anaconda3/lib/python3.6/site-packages (from scikit-learn->sklearn) (0.14.1)\n",
      "Requirement already satisfied: numpy>=1.11.0 in /Users/jose/anaconda3/lib/python3.6/site-packages (from scikit-learn->sklearn) (1.15.4)\n",
      "Requirement already satisfied: scipy>=0.17.0 in /Users/jose/anaconda3/lib/python3.6/site-packages (from scikit-learn->sklearn) (1.4.1)\n"
     ]
    }
   ],
   "source": [
    "!pip install sklearn"
   ]
  },
  {
   "cell_type": "markdown",
   "metadata": {},
   "source": [
    "### Creating data for our example"
   ]
  },
  {
   "cell_type": "markdown",
   "metadata": {},
   "source": [
    "### Logistic Regression"
   ]
  },
  {
   "cell_type": "code",
   "execution_count": 63,
   "metadata": {},
   "outputs": [
    {
     "name": "stdout",
     "output_type": "stream",
     "text": [
      "   A  B  C  D  E  F  G  H  I  J ...  Q  R  S  T  U  V  W  X  Y  Z\n",
      "0  1  0  0  1  1  1  0  1  0  1 ...  0  1  1  0  0  0  0  0  1  1\n",
      "1  0  1  0  1  1  0  0  0  0  1 ...  0  0  1  0  0  0  0  1  0  1\n",
      "2  1  1  1  0  0  1  0  1  0  0 ...  0  1  0  0  0  0  0  1  1  1\n",
      "3  0  0  0  1  1  1  1  1  0  0 ...  1  1  1  1  0  1  0  0  1  1\n",
      "4  1  1  0  0  1  0  1  1  0  1 ...  0  1  1  0  0  0  0  0  1  0\n",
      "\n",
      "[5 rows x 26 columns]\n",
      "   A  B  C  D  E  F  G  H  I  J ...  P  Q  R  S  T  U  V  W  X  Y\n",
      "0  0  0  0  1  1  0  0  0  1  0 ...  0  1  1  0  1  0  1  0  1  0\n",
      "\n",
      "[1 rows x 25 columns]\n"
     ]
    }
   ],
   "source": [
    "import numpy as np\n",
    "import pandas as pd\n",
    "n_products = 5000\n",
    "\n",
    "# Featured products\n",
    "numpy_serie = np.array(np.random.randint(0, 2, size=(n_products, 26)))\n",
    "df = pd.DataFrame(numpy_serie, columns=list('ABCDEFGHIJKLMNOPQRSTUVWXYZ'))\n",
    "\n",
    "# New product\n",
    "df.to_csv('product_features.csv', index_label=False)\n",
    "print(df.head())\n",
    "\n",
    "# New product\n",
    "numpy_serie = np.array(np.random.randint(0, 2, size=(1, 25)))\n",
    "df_target = pd.DataFrame(numpy_serie, columns=list('ABCDEFGHIJKLMNOPQRSTUVWXY'))\n",
    "df_target.to_csv('product.csv', index_label=False)\n",
    "print(df_target.head())"
   ]
  },
  {
   "cell_type": "code",
   "execution_count": 64,
   "metadata": {},
   "outputs": [
    {
     "name": "stdout",
     "output_type": "stream",
     "text": [
      "Result: [0]\n",
      "              precision    recall  f1-score   support\n",
      "\n",
      "           0       0.53      0.58      0.55      2520\n",
      "           1       0.53      0.48      0.50      2480\n",
      "\n",
      "    accuracy                           0.53      5000\n",
      "   macro avg       0.53      0.53      0.53      5000\n",
      "weighted avg       0.53      0.53      0.53      5000\n",
      "\n",
      "Is this person valid for this Product? No\n"
     ]
    }
   ],
   "source": [
    "import pandas as pd\n",
    "from sklearn.linear_model import LogisticRegression\n",
    "from sklearn.metrics import classification_report\n",
    "\n",
    "new_client = pd.read_csv('product.csv')  # new client to be classified\n",
    "product_featured = pd.read_csv('product_features.csv')  # featured data available\n",
    "\n",
    "# DataFrame with columns from A to Z\n",
    "X = product_featured.iloc[:, :-1].values  # features are columns from A-Y\n",
    "y = product_featured.iloc[:, -1].values  # label is column Z\n",
    "\n",
    "x = new_client.values  # what we want to classified\n",
    "\n",
    "model = LogisticRegression()\n",
    "model_trained = model.fit(X, y)\n",
    "y_pred = model_trained.predict(x)\n",
    "print(f\"Result: {y_pred}\")\n",
    "\n",
    "Y_pred = model_trained.predict(X)\n",
    "print(classification_report(y, Y_pred))\n",
    "print(\"Is this person valid for this Product? {}\".format(\"Yes\" if y_pred[0] else \"No\"))"
   ]
  },
  {
   "cell_type": "markdown",
   "metadata": {},
   "source": [
    "### K-Nearest Neighbors"
   ]
  },
  {
   "cell_type": "code",
   "execution_count": 65,
   "metadata": {},
   "outputs": [],
   "source": [
    "import numpy as np\n",
    "import pandas as pd\n",
    "n_products = 50\n",
    "\n",
    "# this is the product client is reviewing\n",
    "df_target = pd.DataFrame(\n",
    "    np.random.randint(0, 4, size=(1, 26)), \n",
    "    columns=list('ABCDEFGHIJKLMNOPQRSTUVWXYZ'),\n",
    "    index=['myProduct']\n",
    ")\n",
    "df_target.index.name = 'productName'\n",
    "df_target.to_csv('product.csv', index_label=False)\n",
    "\n",
    "# Featured products\n",
    "df = pd.DataFrame(\n",
    "    np.random.randint(0, 4, size=(99, 26)), \n",
    "    columns=list('ABCDEFGHIJKLMNOPQRSTUVWXYZ')\n",
    ")\n",
    "df['productName'] = pd.util.testing.rands_array(5, 99)\n",
    "df.set_index('productName', inplace=True)\n",
    "df = df.append(df_target)\n",
    "df.to_csv('product_features.csv', index_label=False)"
   ]
  },
  {
   "cell_type": "code",
   "execution_count": 66,
   "metadata": {},
   "outputs": [
    {
     "name": "stdout",
     "output_type": "stream",
     "text": [
      "Product closest by features are [99, 69, 79, 13, 22]\n",
      "           A  B  C  D  E  F  G  H  I  J ...  Q  R  S  T  U  V  W  X  Y  Z\n",
      "myProduct  0  2  1  0  1  3  3  2  1  2 ...  0  0  2  3  1  2  2  1  3  2\n",
      "bPUO9      2  2  1  0  1  1  2  1  0  0 ...  0  1  3  3  3  1  3  0  2  3\n",
      "ycr5E      3  0  1  0  3  3  3  2  0  2 ...  0  3  2  3  2  1  3  1  2  1\n",
      "GbdTP      1  2  1  1  0  1  2  1  3  2 ...  3  0  0  3  1  0  2  0  2  1\n",
      "vafkv      0  0  0  1  0  1  0  3  1  2 ...  1  0  1  1  1  1  3  1  1  1\n",
      "\n",
      "[5 rows x 26 columns]\n"
     ]
    }
   ],
   "source": [
    "import pandas as pd\n",
    "from sklearn.neighbors import NearestNeighbors\n",
    "\n",
    "# This is the number of closer products I want (neighbors). \n",
    "n_neighbors = 5\n",
    "\n",
    "# This is the product that user is currently viewing\n",
    "product = pd.read_csv('product.csv')\n",
    "\n",
    "# This is the list of rated products. featured data\n",
    "product_featured = pd.read_csv('product_features.csv')\n",
    "X = product_featured.values\n",
    "\n",
    "# so we need 5 more product_featured similar to the product\n",
    "model = NearestNeighbors(n_neighbors=n_neighbors)\n",
    "trained_model = model.fit(X)\n",
    "result = trained_model.kneighbors(product)\n",
    "print(f'Product closest by features are {list(result[1][0])}')\n",
    "print(product_featured.iloc[list(result[1][0])])"
   ]
  },
  {
   "cell_type": "markdown",
   "metadata": {},
   "source": [
    "### Collaborative filtering"
   ]
  },
  {
   "cell_type": "code",
   "execution_count": 67,
   "metadata": {},
   "outputs": [],
   "source": [
    "import numpy as np\n",
    "import pandas as pd\n",
    "\n",
    "n_products = 50\n",
    "n_people = 1000\n",
    "\n",
    "df = pd.DataFrame()\n",
    "df['userID'] = np.random.randint(0, n_people, size=10000)  # 1000 people\n",
    "df['productID'] = np.random.randint(0, n_products, size=df.userID.size)  # 50 products\n",
    "df['rating'] = np.random.randint(0, 4, size=df.userID.size)  # rating from 1-4\n",
    "\n",
    "df.drop_duplicates(subset=['userID', 'productID'])\n",
    "df.to_csv('product_ratings.csv', index_label=False)\n",
    "\n",
    "df2 = pd.DataFrame()\n",
    "df2['productName'] = pd.util.testing.rands_array(10, n_products)\n",
    "df2.to_csv('product_list.csv', index_label=False)"
   ]
  },
  {
   "cell_type": "code",
   "execution_count": 68,
   "metadata": {},
   "outputs": [
    {
     "name": "stdout",
     "output_type": "stream",
     "text": [
      "True\n"
     ]
    },
    {
     "data": {
      "text/html": [
       "<div>\n",
       "<style scoped>\n",
       "    .dataframe tbody tr th:only-of-type {\n",
       "        vertical-align: middle;\n",
       "    }\n",
       "\n",
       "    .dataframe tbody tr th {\n",
       "        vertical-align: top;\n",
       "    }\n",
       "\n",
       "    .dataframe thead th {\n",
       "        text-align: right;\n",
       "    }\n",
       "</style>\n",
       "<table border=\"1\" class=\"dataframe\">\n",
       "  <thead>\n",
       "    <tr style=\"text-align: right;\">\n",
       "      <th></th>\n",
       "      <th>productName</th>\n",
       "    </tr>\n",
       "  </thead>\n",
       "  <tbody>\n",
       "    <tr>\n",
       "      <th>7</th>\n",
       "      <td>Qgrs0Dgvuq</td>\n",
       "    </tr>\n",
       "    <tr>\n",
       "      <th>18</th>\n",
       "      <td>ZDLq6Lqj08</td>\n",
       "    </tr>\n",
       "    <tr>\n",
       "      <th>34</th>\n",
       "      <td>FsG8yLAwva</td>\n",
       "    </tr>\n",
       "    <tr>\n",
       "      <th>41</th>\n",
       "      <td>wFSx2kDhPm</td>\n",
       "    </tr>\n",
       "  </tbody>\n",
       "</table>\n",
       "</div>"
      ],
      "text/plain": [
       "   productName\n",
       "7   Qgrs0Dgvuq\n",
       "18  ZDLq6Lqj08\n",
       "34  FsG8yLAwva\n",
       "41  wFSx2kDhPm"
      ]
     },
     "execution_count": 68,
     "metadata": {},
     "output_type": "execute_result"
    }
   ],
   "source": [
    "import pandas as pd\n",
    "import numpy as np\n",
    "from sklearn.decomposition import TruncatedSVD\n",
    "\n",
    "corr_value = 0.7\n",
    "\n",
    "# model source\n",
    "ratings_df = pd.read_csv('product_ratings.csv')\n",
    "products_df = pd.read_csv('product_list.csv')\n",
    "\n",
    "# user is interested in a random product from products_df\n",
    "name = products_df['productName'][7]\n",
    "\n",
    "# Utility  1000x50  1000 people x 50 product\n",
    "ratings_pivot = pd.pivot_table(\n",
    "    data=ratings_df,\n",
    "    values='rating',\n",
    "    index='userID',\n",
    "    columns='productID',\n",
    "    fill_value=0\n",
    ")\n",
    "\n",
    "# Transposing\n",
    "X = ratings_pivot.T  # 50x1000  50 product x 1000 people\n",
    "\n",
    "# Truncate to build a matrix with 'features' (12 but you can change) and get M = L x U\n",
    "SVD = TruncatedSVD(n_components=12, random_state=17)\n",
    "# L = 50x12  50 products (rows) x 12 features (columns)\n",
    "decomposed_matrix = SVD.fit_transform(X)\n",
    "\n",
    "# correlation matrix on L Matrix, we get 50x50, diagonal matrix\n",
    "corr_mat = np.corrcoef(decomposed_matrix)\n",
    "\n",
    "# get the product id input by user\n",
    "index_column = products_df[products_df['productName'] == name].index[0]\n",
    "print(index_column == 7)\n",
    "\n",
    "# get the correlation values (vector) of the product respect to the rest,\n",
    "# If user search for corr. of 5th product, the 5th position of the vector is 1 (diagonal)\n",
    "product_corr_values = corr_mat[index_column]\n",
    "\n",
    "# mask values of dataframe with values of corr higher than....\n",
    "products_df[product_corr_values >= corr_value]"
   ]
  },
  {
   "cell_type": "code",
   "execution_count": null,
   "metadata": {},
   "outputs": [],
   "source": []
  },
  {
   "cell_type": "code",
   "execution_count": null,
   "metadata": {},
   "outputs": [],
   "source": []
  }
 ],
 "metadata": {
  "kernelspec": {
   "display_name": "Python 3",
   "language": "python",
   "name": "python3"
  },
  "language_info": {
   "codemirror_mode": {
    "name": "ipython",
    "version": 3
   },
   "file_extension": ".py",
   "mimetype": "text/x-python",
   "name": "python",
   "nbconvert_exporter": "python",
   "pygments_lexer": "ipython3",
   "version": "3.6.6"
  }
 },
 "nbformat": 4,
 "nbformat_minor": 2
}
