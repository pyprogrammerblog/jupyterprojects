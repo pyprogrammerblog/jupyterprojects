{
 "cells": [
  {
   "cell_type": "raw",
   "metadata": {},
   "source": [
    "Types of Recommendation Systems\n",
    "\n",
    "1. Non-Machine Learning methods\n",
    "1.1 General Counting\n",
    "1.2 Product Correlation\n",
    "1.3 Rating Average\n",
    "\n",
    "2. Machine Learning methods\n",
    "2.1 Logistic regression\n",
    "2.2 Collaborative Filtering\n",
    "2.3 K-Nearest Neighbors\n"
   ]
  },
  {
   "cell_type": "markdown",
   "metadata": {},
   "source": [
    "### Creating data for our example"
   ]
  },
  {
   "cell_type": "code",
   "execution_count": 8,
   "metadata": {},
   "outputs": [],
   "source": [
    "import numpy as np\n",
    "import pandas as pd"
   ]
  },
  {
   "cell_type": "code",
   "execution_count": 9,
   "metadata": {},
   "outputs": [
    {
     "name": "stdout",
     "output_type": "stream",
     "text": [
      "Everything ok\n"
     ]
    },
    {
     "data": {
      "text/html": [
       "<div>\n",
       "<style scoped>\n",
       "    .dataframe tbody tr th:only-of-type {\n",
       "        vertical-align: middle;\n",
       "    }\n",
       "\n",
       "    .dataframe tbody tr th {\n",
       "        vertical-align: top;\n",
       "    }\n",
       "\n",
       "    .dataframe thead th {\n",
       "        text-align: right;\n",
       "    }\n",
       "</style>\n",
       "<table border=\"1\" class=\"dataframe\">\n",
       "  <thead>\n",
       "    <tr style=\"text-align: right;\">\n",
       "      <th></th>\n",
       "      <th>userID</th>\n",
       "      <th>productID</th>\n",
       "      <th>rating</th>\n",
       "    </tr>\n",
       "  </thead>\n",
       "  <tbody>\n",
       "    <tr>\n",
       "      <th>0</th>\n",
       "      <td>630</td>\n",
       "      <td>31</td>\n",
       "      <td>1</td>\n",
       "    </tr>\n",
       "    <tr>\n",
       "      <th>1</th>\n",
       "      <td>178</td>\n",
       "      <td>44</td>\n",
       "      <td>1</td>\n",
       "    </tr>\n",
       "    <tr>\n",
       "      <th>2</th>\n",
       "      <td>853</td>\n",
       "      <td>35</td>\n",
       "      <td>1</td>\n",
       "    </tr>\n",
       "    <tr>\n",
       "      <th>3</th>\n",
       "      <td>417</td>\n",
       "      <td>41</td>\n",
       "      <td>3</td>\n",
       "    </tr>\n",
       "    <tr>\n",
       "      <th>4</th>\n",
       "      <td>38</td>\n",
       "      <td>24</td>\n",
       "      <td>2</td>\n",
       "    </tr>\n",
       "  </tbody>\n",
       "</table>\n",
       "</div>"
      ],
      "text/plain": [
       "   userID  productID  rating\n",
       "0     630         31       1\n",
       "1     178         44       1\n",
       "2     853         35       1\n",
       "3     417         41       3\n",
       "4      38         24       2"
      ]
     },
     "execution_count": 9,
     "metadata": {},
     "output_type": "execute_result"
    }
   ],
   "source": [
    "n_products = 50  # number of products of opur shop\n",
    "size = 10000  # size of the muestra\n",
    "\n",
    "# users with id between 1-1000 can rate products with id between 1-50 with a rating from 1-4\n",
    "df = pd.DataFrame()\n",
    "df['userID'] = np.random.randint(0, 1000, size=size)  # 100 people\n",
    "df['productID'] = np.random.randint(0, n_products, size=size)  # 50 products\n",
    "df['rating'] = np.random.randint(1, 4, size=size)  # rating from 1-4\n",
    "\n",
    "# user could rate the same product so better to drop duplicates\n",
    "df.drop_duplicates(subset=['userID', 'productID'], inplace=True)\n",
    "print('Everything ok' if not any(df.duplicated(subset=['userID', 'productID'])) else 'Something wrong')\n",
    "\n",
    "# save into .csv\n",
    "df.to_csv('product_ratings.csv', index_label=False)\n",
    "\n",
    "df.head()"
   ]
  },
  {
   "cell_type": "code",
   "execution_count": 15,
   "metadata": {},
   "outputs": [
    {
     "data": {
      "text/html": [
       "<div>\n",
       "<style scoped>\n",
       "    .dataframe tbody tr th:only-of-type {\n",
       "        vertical-align: middle;\n",
       "    }\n",
       "\n",
       "    .dataframe tbody tr th {\n",
       "        vertical-align: top;\n",
       "    }\n",
       "\n",
       "    .dataframe thead th {\n",
       "        text-align: right;\n",
       "    }\n",
       "</style>\n",
       "<table border=\"1\" class=\"dataframe\">\n",
       "  <thead>\n",
       "    <tr style=\"text-align: right;\">\n",
       "      <th></th>\n",
       "      <th>productName</th>\n",
       "    </tr>\n",
       "    <tr>\n",
       "      <th>productID</th>\n",
       "      <th></th>\n",
       "    </tr>\n",
       "  </thead>\n",
       "  <tbody>\n",
       "    <tr>\n",
       "      <th>0</th>\n",
       "      <td>v9ioqvrenl</td>\n",
       "    </tr>\n",
       "    <tr>\n",
       "      <th>1</th>\n",
       "      <td>LYjau9YZsv</td>\n",
       "    </tr>\n",
       "    <tr>\n",
       "      <th>2</th>\n",
       "      <td>QQMqz1cTxR</td>\n",
       "    </tr>\n",
       "    <tr>\n",
       "      <th>3</th>\n",
       "      <td>4Ai4ND49N2</td>\n",
       "    </tr>\n",
       "    <tr>\n",
       "      <th>4</th>\n",
       "      <td>ZzF7UrZmuL</td>\n",
       "    </tr>\n",
       "  </tbody>\n",
       "</table>\n",
       "</div>"
      ],
      "text/plain": [
       "          productName\n",
       "productID            \n",
       "0          v9ioqvrenl\n",
       "1          LYjau9YZsv\n",
       "2          QQMqz1cTxR\n",
       "3          4Ai4ND49N2\n",
       "4          ZzF7UrZmuL"
      ]
     },
     "execution_count": 15,
     "metadata": {},
     "output_type": "execute_result"
    }
   ],
   "source": [
    "# This table comntains random names for our products\n",
    "df2 = pd.DataFrame()\n",
    "df2['productID'] = np.arange(n_products)\n",
    "df2['productName'] = pd.util.testing.rands_array(10, n_products)\n",
    "df2.set_index('productID', inplace=True)\n",
    "\n",
    "df2.to_csv('product_list.csv', index_label=False)\n",
    "df2.head()"
   ]
  },
  {
   "cell_type": "markdown",
   "metadata": {},
   "source": [
    "## 1. Non-Machine Learning methods"
   ]
  },
  {
   "cell_type": "markdown",
   "metadata": {},
   "source": [
    "### 1.1 General Counting"
   ]
  },
  {
   "cell_type": "code",
   "execution_count": 12,
   "metadata": {},
   "outputs": [
    {
     "name": "stdout",
     "output_type": "stream",
     "text": [
      "Products Id: [15, 23, 1, 33, 44]\n"
     ]
    },
    {
     "data": {
      "text/html": [
       "<div>\n",
       "<style scoped>\n",
       "    .dataframe tbody tr th:only-of-type {\n",
       "        vertical-align: middle;\n",
       "    }\n",
       "\n",
       "    .dataframe tbody tr th {\n",
       "        vertical-align: top;\n",
       "    }\n",
       "\n",
       "    .dataframe thead th {\n",
       "        text-align: right;\n",
       "    }\n",
       "</style>\n",
       "<table border=\"1\" class=\"dataframe\">\n",
       "  <thead>\n",
       "    <tr style=\"text-align: right;\">\n",
       "      <th></th>\n",
       "      <th>productName</th>\n",
       "    </tr>\n",
       "  </thead>\n",
       "  <tbody>\n",
       "    <tr>\n",
       "      <th>15</th>\n",
       "      <td>vJLAjNtkNr</td>\n",
       "    </tr>\n",
       "    <tr>\n",
       "      <th>23</th>\n",
       "      <td>NLMrD3Bdse</td>\n",
       "    </tr>\n",
       "    <tr>\n",
       "      <th>1</th>\n",
       "      <td>N0OLUyY8Im</td>\n",
       "    </tr>\n",
       "    <tr>\n",
       "      <th>33</th>\n",
       "      <td>ZUQe4FoLVL</td>\n",
       "    </tr>\n",
       "    <tr>\n",
       "      <th>44</th>\n",
       "      <td>up8BYzlGQ7</td>\n",
       "    </tr>\n",
       "  </tbody>\n",
       "</table>\n",
       "</div>"
      ],
      "text/plain": [
       "   productName\n",
       "15  vJLAjNtkNr\n",
       "23  NLMrD3Bdse\n",
       "1   N0OLUyY8Im\n",
       "33  ZUQe4FoLVL\n",
       "44  up8BYzlGQ7"
      ]
     },
     "execution_count": 12,
     "metadata": {},
     "output_type": "execute_result"
    }
   ],
   "source": [
    "# Based on count\n",
    "\n",
    "n_products = 5\n",
    "product_ratings = pd.read_csv('product_ratings.csv')\n",
    "product_list = pd.read_csv('product_list.csv')\n",
    "    \n",
    "# group by and count\n",
    "counts_df = pd.DataFrame(product_ratings.groupby('productID')['rating'].count())\n",
    "counts_df.sort_values('rating', ascending=False, inplace=True)\n",
    "# counts_df.head(10)\n",
    "\n",
    "# # filter and return most valued product\n",
    "# counts_df.head(n_products)\n",
    "most_valued = counts_df.head(n_products).index.tolist()\n",
    "print(f\"Products Id: {most_valued}\")\n",
    "\n",
    "# loc for index (productID) an show names\n",
    "products_df.loc[most_valued][['productName']]"
   ]
  },
  {
   "cell_type": "markdown",
   "metadata": {},
   "source": [
    "### 1.2 Rating Average"
   ]
  },
  {
   "cell_type": "code",
   "execution_count": 13,
   "metadata": {},
   "outputs": [
    {
     "name": "stdout",
     "output_type": "stream",
     "text": [
      "Products Id: [8, 48, 15, 5, 10]\n"
     ]
    },
    {
     "data": {
      "text/html": [
       "<div>\n",
       "<style scoped>\n",
       "    .dataframe tbody tr th:only-of-type {\n",
       "        vertical-align: middle;\n",
       "    }\n",
       "\n",
       "    .dataframe tbody tr th {\n",
       "        vertical-align: top;\n",
       "    }\n",
       "\n",
       "    .dataframe thead th {\n",
       "        text-align: right;\n",
       "    }\n",
       "</style>\n",
       "<table border=\"1\" class=\"dataframe\">\n",
       "  <thead>\n",
       "    <tr style=\"text-align: right;\">\n",
       "      <th></th>\n",
       "      <th>productName</th>\n",
       "    </tr>\n",
       "  </thead>\n",
       "  <tbody>\n",
       "    <tr>\n",
       "      <th>8</th>\n",
       "      <td>UIMebVAchm</td>\n",
       "    </tr>\n",
       "    <tr>\n",
       "      <th>48</th>\n",
       "      <td>Q2pILx17OS</td>\n",
       "    </tr>\n",
       "    <tr>\n",
       "      <th>15</th>\n",
       "      <td>u5f5h3NHOO</td>\n",
       "    </tr>\n",
       "    <tr>\n",
       "      <th>5</th>\n",
       "      <td>LKwrvrFLEe</td>\n",
       "    </tr>\n",
       "    <tr>\n",
       "      <th>10</th>\n",
       "      <td>jiSDMc9p8j</td>\n",
       "    </tr>\n",
       "  </tbody>\n",
       "</table>\n",
       "</div>"
      ],
      "text/plain": [
       "   productName\n",
       "8   UIMebVAchm\n",
       "48  Q2pILx17OS\n",
       "15  u5f5h3NHOO\n",
       "5   LKwrvrFLEe\n",
       "10  jiSDMc9p8j"
      ]
     },
     "execution_count": 13,
     "metadata": {},
     "output_type": "execute_result"
    }
   ],
   "source": [
    "# Based on average\n",
    "\n",
    "n_products = 5\n",
    "product_ratings = pd.read_csv('product_ratings.csv')\n",
    "product_list = pd.read_csv('product_list.csv')\n",
    "\n",
    "# group by and count\n",
    "counts_df = pd.DataFrame(product_ratings.groupby('productID')['rating'].count())\n",
    "counts_df['rating_avg'] = pd.DataFrame(ratings_df.groupby('productID')['rating'].mean())\n",
    "counts_df.sort_values('rating_avg', ascending=False, inplace=True)\n",
    "\n",
    "# filter and return most valued product\n",
    "most_valued = counts_df.head(n_products).index.tolist()\n",
    "print(f\"Products Id: {most_valued}\")\n",
    "\n",
    "# loc for index (productID) an show names\n",
    "product_list.loc[most_valued][['productName']]"
   ]
  },
  {
   "cell_type": "markdown",
   "metadata": {},
   "source": [
    "### 1.3 Product Correlation"
   ]
  },
  {
   "cell_type": "code",
   "execution_count": 14,
   "metadata": {},
   "outputs": [
    {
     "name": "stdout",
     "output_type": "stream",
     "text": [
      "We look for similar products to: 'J6JpB9iWEo' with ID: '7'\n",
      "Pearson values\n",
      "productID\n",
      "0   -0.166667\n",
      "1    0.038443\n",
      "2    0.000000\n",
      "3    0.000000\n",
      "4   -0.014456\n",
      "5   -0.154016\n",
      "6   -0.038580\n",
      "7    1.000000\n",
      "dtype: float64\n"
     ]
    },
    {
     "data": {
      "text/html": [
       "<div>\n",
       "<style scoped>\n",
       "    .dataframe tbody tr th:only-of-type {\n",
       "        vertical-align: middle;\n",
       "    }\n",
       "\n",
       "    .dataframe tbody tr th {\n",
       "        vertical-align: top;\n",
       "    }\n",
       "\n",
       "    .dataframe thead th {\n",
       "        text-align: right;\n",
       "    }\n",
       "</style>\n",
       "<table border=\"1\" class=\"dataframe\">\n",
       "  <thead>\n",
       "    <tr style=\"text-align: right;\">\n",
       "      <th></th>\n",
       "      <th>productName</th>\n",
       "    </tr>\n",
       "  </thead>\n",
       "  <tbody>\n",
       "    <tr>\n",
       "      <th>7</th>\n",
       "      <td>J6JpB9iWEo</td>\n",
       "    </tr>\n",
       "    <tr>\n",
       "      <th>30</th>\n",
       "      <td>azJ4HVQT3L</td>\n",
       "    </tr>\n",
       "    <tr>\n",
       "      <th>22</th>\n",
       "      <td>LIfvpTNxPn</td>\n",
       "    </tr>\n",
       "    <tr>\n",
       "      <th>32</th>\n",
       "      <td>JWzawy4AYC</td>\n",
       "    </tr>\n",
       "    <tr>\n",
       "      <th>39</th>\n",
       "      <td>YrsqogcT9s</td>\n",
       "    </tr>\n",
       "  </tbody>\n",
       "</table>\n",
       "</div>"
      ],
      "text/plain": [
       "   productName\n",
       "7   J6JpB9iWEo\n",
       "30  azJ4HVQT3L\n",
       "22  LIfvpTNxPn\n",
       "32  JWzawy4AYC\n",
       "39  YrsqogcT9s"
      ]
     },
     "execution_count": 14,
     "metadata": {},
     "output_type": "execute_result"
    }
   ],
   "source": [
    "# Based on corr.\n",
    "\n",
    "n_products = 5\n",
    "random_product_id = 7\n",
    "\n",
    "ratings_df = pd.read_csv('product_ratings.csv')\n",
    "products_df = pd.read_csv('product_list.csv')\n",
    "\n",
    "product_name = products_df.loc[random_product_id, 'productName']\n",
    "print(f\"We look for similar products to: '{product_name}' with ID: '{random_product_id}'\")\n",
    "\n",
    "# get id for the product. A bit redundant\n",
    "index_column = products_df[products_df['productName'] == product_name].index[0]\n",
    "index_column == random_product_id\n",
    "\n",
    "# Utility  1000x50  1000 people x 50 product, not all products are rated by users\n",
    "ratings_pivot = pd.pivot_table(\n",
    "    data=ratings_df, \n",
    "    values='rating', \n",
    "    index='userID', \n",
    "    columns='productID'\n",
    ")\n",
    "# print(ratings_pivot)\n",
    "\n",
    "# then get vector of correlation for this product respect to the rest of products\n",
    "# correlation of one column with the rest ??\n",
    "pearson = ratings_pivot.corrwith(ratings_pivot[index_column])\n",
    "print('Pearson values')\n",
    "print(pearson.head(8))\n",
    "\n",
    "# # make a dataframe with the obtained vector and arrange from the higher to the lowest\n",
    "similar_products = pd.DataFrame(pearson, columns=['Pearson_Corr'])\n",
    "similar_products.dropna(inplace=True)\n",
    "similar_products = similar_products.sort_values('Pearson_Corr', ascending=False)\n",
    "\n",
    "# make a list of index products with the method tolist()\n",
    "most_valued = similar_products.head(n_products).index.tolist()\n",
    "\n",
    "# look for those index in products dataframe and return them\n",
    "products_df.loc[most_valued][['productName']]"
   ]
  },
  {
   "cell_type": "code",
   "execution_count": null,
   "metadata": {},
   "outputs": [],
   "source": []
  }
 ],
 "metadata": {
  "kernelspec": {
   "display_name": "Python 3",
   "language": "python",
   "name": "python3"
  },
  "language_info": {
   "codemirror_mode": {
    "name": "ipython",
    "version": 3
   },
   "file_extension": ".py",
   "mimetype": "text/x-python",
   "name": "python",
   "nbconvert_exporter": "python",
   "pygments_lexer": "ipython3",
   "version": "3.6.8"
  }
 },
 "nbformat": 4,
 "nbformat_minor": 2
}
