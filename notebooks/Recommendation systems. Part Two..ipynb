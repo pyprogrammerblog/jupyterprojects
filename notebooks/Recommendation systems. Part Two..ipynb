{
 "cells": [
  {
   "cell_type": "raw",
   "metadata": {},
   "source": [
    "Types of Recommendation Systems\n",
    "\n",
    "1. Non-Machine Learning methods: \n",
    "1.1 General Counting.\n",
    "1.2 Product Correlation\n",
    "1.3 Rating Average.\n",
    "\n",
    "2. Machine Learning methods:\n",
    "2.1 Logistic regression.\n",
    "2.2 Collaborative Filtering.\n",
    "2.3 K-Nearest Neighbors."
   ]
  },
  {
   "cell_type": "markdown",
   "metadata": {},
   "source": [
    "### Creating data for our example"
   ]
  },
  {
   "cell_type": "markdown",
   "metadata": {},
   "source": [
    "### Logistic Regression"
   ]
  },
  {
   "cell_type": "code",
   "execution_count": 2,
   "metadata": {},
   "outputs": [
    {
     "name": "stdout",
     "output_type": "stream",
     "text": [
      "   A  B  C  D  E  F  G  H  I  J ...  Q  R  S  T  U  V  W  X  Y  Z\n",
      "0  1  1  0  1  1  0  0  0  0  1 ...  0  0  1  0  1  1  1  0  0  0\n",
      "1  0  1  0  1  1  0  0  0  1  1 ...  1  0  1  1  1  0  1  0  0  0\n",
      "2  1  0  0  1  1  0  0  0  1  0 ...  1  1  0  1  1  1  0  1  1  0\n",
      "3  1  1  0  0  1  0  1  1  1  1 ...  1  1  0  1  0  1  0  0  0  0\n",
      "4  0  0  1  0  0  0  1  0  0  0 ...  0  1  1  0  1  1  1  0  1  0\n",
      "\n",
      "[5 rows x 26 columns]\n",
      "   A  B  C  D  E  F  G  H  I  J ...  P  Q  R  S  T  U  V  W  X  Y\n",
      "0  0  1  1  1  1  1  1  1  0  0 ...  1  1  0  0  1  0  1  1  1  1\n",
      "\n",
      "[1 rows x 25 columns]\n"
     ]
    }
   ],
   "source": [
    "import numpy as np\n",
    "import pandas as pd\n",
    "n_products = 5000\n",
    "\n",
    "# Featured products\n",
    "numpy_serie = np.array(np.random.randint(0, 2, size=(n_products, 26)))\n",
    "df = pd.DataFrame(numpy_serie, columns=list('ABCDEFGHIJKLMNOPQRSTUVWXYZ'))\n",
    "\n",
    "# New product\n",
    "df.to_csv('product_features.csv', index_label=False)\n",
    "print(df.head())\n",
    "\n",
    "# New product\n",
    "numpy_serie = np.array(np.random.randint(0, 2, size=(1, 25)))\n",
    "df_target = pd.DataFrame(numpy_serie, columns=list('ABCDEFGHIJKLMNOPQRSTUVWXY'))\n",
    "df_target.to_csv('product.csv', index_label=False)\n",
    "print(df_target.head())"
   ]
  },
  {
   "cell_type": "code",
   "execution_count": 18,
   "metadata": {},
   "outputs": [
    {
     "name": "stdout",
     "output_type": "stream",
     "text": [
      "Result: [1]\n",
      "             precision    recall  f1-score   support\n",
      "\n",
      "          0       0.53      0.42      0.47      2440\n",
      "          1       0.54      0.64      0.58      2560\n",
      "\n",
      "avg / total       0.53      0.53      0.53      5000\n",
      "\n",
      "Is this person valid for this Product? Yes\n"
     ]
    }
   ],
   "source": [
    "import pandas as pd\n",
    "from sklearn.linear_model import LogisticRegression\n",
    "from sklearn.metrics import classification_report\n",
    "\n",
    "new_client = pd.read_csv('product.csv')  # new client to be classified\n",
    "product_featured = pd.read_csv('product_features.csv')  # featured data available\n",
    "\n",
    "# DataFrame with columns from A to Z\n",
    "X = product_featured.iloc[:, :-1].values  # features are columns from A-Y\n",
    "y = product_featured.iloc[:, -1].values  # label is column Z\n",
    "\n",
    "x = new_client.values  # what we want to classified\n",
    "\n",
    "model = LogisticRegression()\n",
    "model_trained = model.fit(X, y)\n",
    "y_pred = model_trained.predict(x)\n",
    "print(f\"Result: {y_pred}\")\n",
    "\n",
    "Y_pred = model_trained.predict(X)\n",
    "print(classification_report(y, Y_pred))\n",
    "print(\"Is this person valid for this Product? {}\".format(\"Yes\" if y_pred[0] else \"No\"))"
   ]
  },
  {
   "cell_type": "markdown",
   "metadata": {},
   "source": [
    "### K-Nearest Neighbors"
   ]
  },
  {
   "cell_type": "code",
   "execution_count": 21,
   "metadata": {},
   "outputs": [],
   "source": [
    "import numpy as np\n",
    "import pandas as pd\n",
    "n_products = 50\n",
    "\n",
    "# From A to Z are our features\n",
    "# 100 products. each product has some features,\n",
    "# of course most of the ti\n",
    "# mes will be zero because a product just have few features\n",
    "numpy_serie = np.array(np.random.randint(0, 4, size=(1, 26)))\n",
    "df_target = pd.DataFrame(numpy_serie, columns=list('ABCDEFGHIJKLMNOPQRSTUVWXYZ'), index=['myProduct'])\n",
    "df_target.index.name = 'productName'\n",
    "\n",
    "# Featured products\n",
    "numpy_serie = np.array(np.random.randint(0, 4, size=(99, 26)))\n",
    "df = pd.DataFrame(numpy_serie, columns=list('ABCDEFGHIJKLMNOPQRSTUVWXYZ'))\n",
    "df['productName'] = pd.util.testing.rands_array(5, 99)\n",
    "df.set_index('productName', inplace=True)\n",
    "\n",
    "df = df.append(df_target)\n",
    "df.to_csv('product_features.csv', index_label=False)\n",
    "\n",
    "# New product\n",
    "df_target.to_csv('product.csv', index_label=False)"
   ]
  },
  {
   "cell_type": "code",
   "execution_count": 22,
   "metadata": {},
   "outputs": [
    {
     "name": "stdout",
     "output_type": "stream",
     "text": [
      "Product to label\n",
      "           A  B  C  D  E  F  G  H  I  J ...  Q  R  S  T  U  V  W  X  Y  Z\n",
      "myProduct  0  0  1  0  1  1  0  3  0  1 ...  2  0  3  1  1  3  3  3  2  1\n",
      "\n",
      "[1 rows x 26 columns]\n",
      "Product closest by features are [99, 86, 80, 88, 16]\n",
      "           A  B  C  D  E  F  G  H  I  J ...  Q  R  S  T  U  V  W  X  Y  Z\n",
      "myProduct  0  0  1  0  1  1  0  3  0  1 ...  2  0  3  1  1  3  3  3  2  1\n",
      "XtthT      0  0  0  1  0  1  1  2  1  0 ...  2  0  2  2  3  1  3  1  0  1\n",
      "DeBov      1  0  3  1  1  2  1  2  1  0 ...  3  3  3  1  1  2  1  3  3  3\n",
      "uAMJs      0  2  3  2  1  1  1  1  0  2 ...  0  1  3  1  2  2  1  2  1  2\n",
      "69yxP      0  3  2  2  2  2  1  3  0  1 ...  3  0  1  3  3  3  0  2  2  2\n",
      "\n",
      "[5 rows x 26 columns]\n"
     ]
    }
   ],
   "source": [
    "import pandas as pd\n",
    "from sklearn.neighbors import NearestNeighbors\n",
    "\n",
    "# This is the number of closer products I want (neighbors). \n",
    "n_neighbors = 5\n",
    "\n",
    "# This is the product that user is currently viewing\n",
    "product = pd.read_csv('product.csv')\n",
    "\n",
    "# This is the list of rated products. featured data\n",
    "product_featured = pd.read_csv('product_features.csv')\n",
    "X = product_featured.values\n",
    "\n",
    "# so we need 5 more product_featured similar to the product\n",
    "model = NearestNeighbors(n_neighbors=n_neighbors)\n",
    "trained_model = model.fit(X)\n",
    "\n",
    "result = trained_model.kneighbors(product)\n",
    "\n",
    "print('Product to label')\n",
    "print(product)\n",
    "print('Product closest by features are {}'.format(list(result[1][0])))\n",
    "print(product_featured.iloc[list(result[1][0])])"
   ]
  },
  {
   "cell_type": "markdown",
   "metadata": {},
   "source": [
    "### Collaborative filtering"
   ]
  },
  {
   "cell_type": "code",
   "execution_count": 30,
   "metadata": {},
   "outputs": [],
   "source": [
    "import numpy as np\n",
    "import pandas as pd\n",
    "\n",
    "n_products = 50\n",
    "n_people = 1000\n",
    "\n",
    "df = pd.DataFrame()\n",
    "df['userID'] = np.random.randint(0, n_people, size=10000)  # 1000 people\n",
    "df['productID'] = np.random.randint(0, n_products, size=df.userID.size)  # 50 products\n",
    "df['rating'] = np.random.randint(0, 4, size=df.userID.size)  # rating from 1-4\n",
    "\n",
    "s = df.drop_duplicates(subset=['userID', 'productID'])\n",
    "s.to_csv('product_ratings.csv', index_label=False)\n",
    "\n",
    "df2 = pd.DataFrame()\n",
    "df2['productName'] = pd.util.testing.rands_array(10, n_products)\n",
    "df2.to_csv('product_list.csv', index_label=False)"
   ]
  },
  {
   "cell_type": "code",
   "execution_count": 45,
   "metadata": {},
   "outputs": [
    {
     "data": {
      "text/html": [
       "<div>\n",
       "<style scoped>\n",
       "    .dataframe tbody tr th:only-of-type {\n",
       "        vertical-align: middle;\n",
       "    }\n",
       "\n",
       "    .dataframe tbody tr th {\n",
       "        vertical-align: top;\n",
       "    }\n",
       "\n",
       "    .dataframe thead th {\n",
       "        text-align: right;\n",
       "    }\n",
       "</style>\n",
       "<table border=\"1\" class=\"dataframe\">\n",
       "  <thead>\n",
       "    <tr style=\"text-align: right;\">\n",
       "      <th></th>\n",
       "      <th>productName</th>\n",
       "    </tr>\n",
       "  </thead>\n",
       "  <tbody>\n",
       "    <tr>\n",
       "      <th>6</th>\n",
       "      <td>JwaxbMdmPd</td>\n",
       "    </tr>\n",
       "    <tr>\n",
       "      <th>7</th>\n",
       "      <td>w2LNC2XNS9</td>\n",
       "    </tr>\n",
       "    <tr>\n",
       "      <th>17</th>\n",
       "      <td>SP6k8dCCvY</td>\n",
       "    </tr>\n",
       "    <tr>\n",
       "      <th>21</th>\n",
       "      <td>uqQZNuVAyz</td>\n",
       "    </tr>\n",
       "    <tr>\n",
       "      <th>23</th>\n",
       "      <td>8euPUfKdEE</td>\n",
       "    </tr>\n",
       "    <tr>\n",
       "      <th>31</th>\n",
       "      <td>W1x89yPJ5s</td>\n",
       "    </tr>\n",
       "    <tr>\n",
       "      <th>45</th>\n",
       "      <td>DNmuxgYTMo</td>\n",
       "    </tr>\n",
       "    <tr>\n",
       "      <th>48</th>\n",
       "      <td>ZzPRC3eHg8</td>\n",
       "    </tr>\n",
       "  </tbody>\n",
       "</table>\n",
       "</div>"
      ],
      "text/plain": [
       "   productName\n",
       "6   JwaxbMdmPd\n",
       "7   w2LNC2XNS9\n",
       "17  SP6k8dCCvY\n",
       "21  uqQZNuVAyz\n",
       "23  8euPUfKdEE\n",
       "31  W1x89yPJ5s\n",
       "45  DNmuxgYTMo\n",
       "48  ZzPRC3eHg8"
      ]
     },
     "execution_count": 45,
     "metadata": {},
     "output_type": "execute_result"
    }
   ],
   "source": [
    "import pandas as pd\n",
    "import numpy as np\n",
    "from sklearn.decomposition import TruncatedSVD\n",
    "\n",
    "\"\"\"\n",
    "1000 people with 50 products. We got 10000 recommendations\n",
    "so our matrix will have many empty places. No worries, it is not a problem\n",
    "\"\"\"\n",
    "name = 'CNIwdVaBLH'\n",
    "corr_value = 0.7\n",
    "\n",
    "# model source\n",
    "ratings_df = pd.read_csv('product_ratings.csv')\n",
    "products_df = pd.read_csv('product_list.csv')\n",
    "\n",
    "# user is interested in a ransom product from products_df\n",
    "name = products_df['productName'][7]\n",
    "\n",
    "# Utility  1000x50  1000 people x 50 product\n",
    "ratings_pivot = pd.pivot_table(\n",
    "    data=ratings_df,\n",
    "    values='rating',\n",
    "    index='userID',\n",
    "    columns='productID',\n",
    "    fill_value=0\n",
    ")\n",
    "\n",
    "# Transposing\n",
    "X = ratings_pivot.T  # 50x1000  50 product x 1000 people\n",
    "\n",
    "# Truncate to build a matrix with 'features' (12 but you can change) and get M = L x U\n",
    "SVD = TruncatedSVD(n_components=12, random_state=17)\n",
    "decomposed_matrix = SVD.fit_transform(X)  # L = 50x12  50 products x 12 features\n",
    "\n",
    "# correlation matrix on L Matrix, we get 50x50, diagonal matrix\n",
    "corr_mat = np.corrcoef(decomposed_matrix) \n",
    "\n",
    "# get the product id input by user\n",
    "index_column = products_df[products_df['productName'] == name].index[0]\n",
    "index_column == 7\n",
    "\n",
    "# get the correlation values (vector) of the product respect to the rest,\n",
    "# If user search for corr. of 5th product, the 5th position of the vector is 1 (diagonal)\n",
    "product_corr_values = corr_mat[index_column]\n",
    "\n",
    "# mask values of dataframe with values of corr higher than....\n",
    "products_df[product_corr_values >= corr_value]"
   ]
  },
  {
   "cell_type": "code",
   "execution_count": null,
   "metadata": {},
   "outputs": [],
   "source": []
  }
 ],
 "metadata": {
  "kernelspec": {
   "display_name": "Python 3",
   "language": "python",
   "name": "python3"
  },
  "language_info": {
   "codemirror_mode": {
    "name": "ipython",
    "version": 3
   },
   "file_extension": ".py",
   "mimetype": "text/x-python",
   "name": "python",
   "nbconvert_exporter": "python",
   "pygments_lexer": "ipython3",
   "version": "3.6.6"
  }
 },
 "nbformat": 4,
 "nbformat_minor": 2
}
